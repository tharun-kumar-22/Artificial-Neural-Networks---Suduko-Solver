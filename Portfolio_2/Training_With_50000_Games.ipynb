{
 "cells": [
  {
   "cell_type": "markdown",
   "id": "6c74ec1a",
   "metadata": {},
   "source": [
    "# <center>Artificial Neural Networks and Cognitive Models</center>"
   ]
  },
  {
   "cell_type": "markdown",
   "id": "7df17c2b",
   "metadata": {},
   "source": [
    "# <center>TASK - 2 Training</center>"
   ]
  },
  {
   "cell_type": "markdown",
   "id": "fc3d32dd",
   "metadata": {},
   "source": [
    "***This notebook is only for traning with already prepared dataset. For data preparation, Please check another notebook named Data_Preparation.ipynb***"
   ]
  },
  {
   "cell_type": "code",
   "execution_count": 1,
   "id": "1e59e5aa",
   "metadata": {
    "execution": {
     "iopub.execute_input": "2024-01-27T14:50:36.399546Z",
     "iopub.status.busy": "2024-01-27T14:50:36.398806Z",
     "iopub.status.idle": "2024-01-27T14:50:38.630961Z",
     "shell.execute_reply": "2024-01-27T14:50:38.629790Z",
     "shell.execute_reply.started": "2024-01-27T14:50:36.399509Z"
    }
   },
   "outputs": [
    {
     "data": {
      "text/html": [
       "<div>\n",
       "<style scoped>\n",
       "    .dataframe tbody tr th:only-of-type {\n",
       "        vertical-align: middle;\n",
       "    }\n",
       "\n",
       "    .dataframe tbody tr th {\n",
       "        vertical-align: top;\n",
       "    }\n",
       "\n",
       "    .dataframe thead th {\n",
       "        text-align: right;\n",
       "    }\n",
       "</style>\n",
       "<table border=\"1\" class=\"dataframe\">\n",
       "  <thead>\n",
       "    <tr style=\"text-align: right;\">\n",
       "      <th></th>\n",
       "      <th>quizzes</th>\n",
       "      <th>solutions</th>\n",
       "    </tr>\n",
       "  </thead>\n",
       "  <tbody>\n",
       "    <tr>\n",
       "      <th>0</th>\n",
       "      <td>0832954170018000590950008620700009000000700203...</td>\n",
       "      <td>6832954174218673597953418625721349868465791233...</td>\n",
       "    </tr>\n",
       "    <tr>\n",
       "      <th>1</th>\n",
       "      <td>1007540320002060070048390500010780000405903100...</td>\n",
       "      <td>1697548323582169472748396515314782967465923189...</td>\n",
       "    </tr>\n",
       "    <tr>\n",
       "      <th>2</th>\n",
       "      <td>7000508398000230409300782002798004000004970266...</td>\n",
       "      <td>7126548398659237419341782652798614533584971266...</td>\n",
       "    </tr>\n",
       "    <tr>\n",
       "      <th>3</th>\n",
       "      <td>0000930078030000290590824039003502016001007081...</td>\n",
       "      <td>2145936878637415297596824139783542616351297481...</td>\n",
       "    </tr>\n",
       "    <tr>\n",
       "      <th>4</th>\n",
       "      <td>6507300901986000070370002560003456020000010742...</td>\n",
       "      <td>6527348911986524374371982569713456823852619742...</td>\n",
       "    </tr>\n",
       "    <tr>\n",
       "      <th>...</th>\n",
       "      <td>...</td>\n",
       "      <td>...</td>\n",
       "    </tr>\n",
       "    <tr>\n",
       "      <th>49995</th>\n",
       "      <td>0896000576200001000408102060107098239020800000...</td>\n",
       "      <td>1896243576279351845438172964167598239724835613...</td>\n",
       "    </tr>\n",
       "    <tr>\n",
       "      <th>49996</th>\n",
       "      <td>7413090080050800402300000701000360276570481903...</td>\n",
       "      <td>7413592689657823412386149751895364276572481933...</td>\n",
       "    </tr>\n",
       "    <tr>\n",
       "      <th>49997</th>\n",
       "      <td>2004639101040080000800057034200070060008064919...</td>\n",
       "      <td>2574639181347986256892157434219573863758264919...</td>\n",
       "    </tr>\n",
       "    <tr>\n",
       "      <th>49998</th>\n",
       "      <td>9082000000024609706748000507000193800000025003...</td>\n",
       "      <td>9382571461524639786748912537256193844693825173...</td>\n",
       "    </tr>\n",
       "    <tr>\n",
       "      <th>49999</th>\n",
       "      <td>7164239050240080000390060200026800730970040004...</td>\n",
       "      <td>7164239855247983168391567241526894733972145684...</td>\n",
       "    </tr>\n",
       "  </tbody>\n",
       "</table>\n",
       "<p>50000 rows × 2 columns</p>\n",
       "</div>"
      ],
      "text/plain": [
       "                                                 quizzes  \\\n",
       "0      0832954170018000590950008620700009000000700203...   \n",
       "1      1007540320002060070048390500010780000405903100...   \n",
       "2      7000508398000230409300782002798004000004970266...   \n",
       "3      0000930078030000290590824039003502016001007081...   \n",
       "4      6507300901986000070370002560003456020000010742...   \n",
       "...                                                  ...   \n",
       "49995  0896000576200001000408102060107098239020800000...   \n",
       "49996  7413090080050800402300000701000360276570481903...   \n",
       "49997  2004639101040080000800057034200070060008064919...   \n",
       "49998  9082000000024609706748000507000193800000025003...   \n",
       "49999  7164239050240080000390060200026800730970040004...   \n",
       "\n",
       "                                               solutions  \n",
       "0      6832954174218673597953418625721349868465791233...  \n",
       "1      1697548323582169472748396515314782967465923189...  \n",
       "2      7126548398659237419341782652798614533584971266...  \n",
       "3      2145936878637415297596824139783542616351297481...  \n",
       "4      6527348911986524374371982569713456823852619742...  \n",
       "...                                                  ...  \n",
       "49995  1896243576279351845438172964167598239724835613...  \n",
       "49996  7413592689657823412386149751895364276572481933...  \n",
       "49997  2574639181347986256892157434219573863758264919...  \n",
       "49998  9382571461524639786748912537256193844693825173...  \n",
       "49999  7164239855247983168391567241526894733972145684...  \n",
       "\n",
       "[50000 rows x 2 columns]"
      ]
     },
     "execution_count": 1,
     "metadata": {},
     "output_type": "execute_result"
    }
   ],
   "source": [
    "import torch\n",
    "from torch.utils.data import Dataset, DataLoader\n",
    "import pandas as pd\n",
    "import numpy as np\n",
    "import torch\n",
    "import torch.nn as nn\n",
    "from torch.utils.data import Dataset, DataLoader\n",
    "device = torch.device(\"cuda\" if torch.cuda.is_available() else \"cpu\")\n",
    "from matplotlib import pyplot as plt\n",
    "from matplotlib import pyplot as plt\n",
    "import os \n",
    "os.environ['KMP_DUPLICATE_LIB_OK']='True'\n",
    "import torch.nn as nn\n",
    "import torch.nn.functional as F\n",
    "\n",
    "\n",
    "data = pd.read_csv(r\"C:\\Semester 2\\ANN\\Portfolio2\\Prepared_datasets\\training_data.csv\")\n",
    "data"
   ]
  },
  {
   "cell_type": "markdown",
   "id": "37411616",
   "metadata": {},
   "source": [
    "# APPROACH-1 : CNN "
   ]
  },
  {
   "cell_type": "code",
   "execution_count": 2,
   "id": "8017e714",
   "metadata": {
    "execution": {
     "iopub.execute_input": "2024-01-27T14:50:38.633573Z",
     "iopub.status.busy": "2024-01-27T14:50:38.633143Z",
     "iopub.status.idle": "2024-01-27T14:50:38.642340Z",
     "shell.execute_reply": "2024-01-27T14:50:38.641228Z",
     "shell.execute_reply.started": "2024-01-27T14:50:38.633529Z"
    }
   },
   "outputs": [],
   "source": [
    "class SudokuDataset(Dataset):\n",
    "    def __init__(self, dataframe, subset=\"train\"):\n",
    "        self.dataframe = dataframe\n",
    "        self.subset = subset\n",
    "\n",
    "    def __len__(self):\n",
    "        return len(self.dataframe)\n",
    "\n",
    "    def __getitem__(self, idx):\n",
    "        puzzle = self.dataframe.iloc[idx, 0]\n",
    "        solution = self.dataframe.iloc[idx, 1]\n",
    "\n",
    "        puzzle = torch.tensor([int(p) for p in puzzle], dtype=torch.float32).reshape(1, 9, 9) / 9 - 0.5\n",
    "        if self.subset == 'train':\n",
    "            solution = torch.tensor([int(s) - 1 for s in solution], dtype=torch.int64).reshape(81)\n",
    "            return puzzle, solution\n",
    "        return puzzle"
   ]
  },
  {
   "cell_type": "code",
   "execution_count": 3,
   "id": "b47a2d4e",
   "metadata": {
    "execution": {
     "iopub.execute_input": "2024-01-27T14:50:38.644079Z",
     "iopub.status.busy": "2024-01-27T14:50:38.643678Z",
     "iopub.status.idle": "2024-01-27T14:50:38.658797Z",
     "shell.execute_reply": "2024-01-27T14:50:38.657892Z",
     "shell.execute_reply.started": "2024-01-27T14:50:38.644041Z"
    }
   },
   "outputs": [],
   "source": [
    "train_idx = int(len(data) * 0.75)\n",
    "train_data = SudokuDataset(data.iloc[:train_idx], subset=\"train\")\n",
    "train_loader = DataLoader(train_data, batch_size=640, shuffle=True)\n",
    "\n",
    "val_data = SudokuDataset(data.iloc[train_idx:], subset=\"train\")\n",
    "val_loader = DataLoader(val_data, batch_size=640, shuffle=False)"
   ]
  },
  {
   "cell_type": "code",
   "execution_count": 4,
   "id": "7b431a3d",
   "metadata": {
    "execution": {
     "iopub.execute_input": "2024-01-27T14:50:38.661645Z",
     "iopub.status.busy": "2024-01-27T14:50:38.661293Z",
     "iopub.status.idle": "2024-01-27T14:50:38.672726Z",
     "shell.execute_reply": "2024-01-27T14:50:38.671621Z",
     "shell.execute_reply.started": "2024-01-27T14:50:38.661615Z"
    }
   },
   "outputs": [],
   "source": [
    "class SudokuSolver(nn.Module):\n",
    "    def __init__(self):\n",
    "        super(SudokuSolver, self).__init__()\n",
    "        self.conv1 = nn.Conv2d(1, 64, kernel_size=3, padding=1)\n",
    "        self.bn1 = nn.BatchNorm2d(64)\n",
    "        self.dropout1 = nn.Dropout2d(0.25)\n",
    "        self.conv2 = nn.Conv2d(64, 128, kernel_size=3, padding=1)\n",
    "        self.bn2 = nn.BatchNorm2d(128)\n",
    "        self.dropout2 = nn.Dropout2d(0.25)\n",
    "        self.conv3 = nn.Conv2d(128, 128, kernel_size=1)\n",
    "        self.fc1 = nn.Linear(128 * 9 * 9, 81 * 9)\n",
    "        self.dropout3 = nn.Dropout(0.25)\n",
    "\n",
    "    def forward(self, x):\n",
    "        x = F.relu(self.dropout1(self.bn1(self.conv1(x))))\n",
    "        x = F.relu(self.dropout2(self.bn2(self.conv2(x))))\n",
    "        x = F.relu(self.conv3(x))\n",
    "        x = x.view(x.size(0), -1)\n",
    "        x = self.dropout3(x)\n",
    "        x = self.fc1(x)\n",
    "        return x.view(-1, 9)  # Reshaped to match [batch_size * 81, 9]"
   ]
  },
  {
   "cell_type": "code",
   "execution_count": 5,
   "id": "38a0f839",
   "metadata": {
    "execution": {
     "iopub.execute_input": "2024-01-27T14:50:38.674585Z",
     "iopub.status.busy": "2024-01-27T14:50:38.674213Z",
     "iopub.status.idle": "2024-01-27T14:50:38.878583Z",
     "shell.execute_reply": "2024-01-27T14:50:38.877353Z",
     "shell.execute_reply.started": "2024-01-27T14:50:38.674554Z"
    }
   },
   "outputs": [],
   "source": [
    "model = SudokuSolver()\n",
    "model.to(device)\n",
    "optimizer = torch.optim.Adam(model.parameters(), lr=0.001)\n",
    "criterion = nn.CrossEntropyLoss()\n",
    "epochs = 25"
   ]
  },
  {
   "cell_type": "code",
   "execution_count": 6,
   "id": "548e2424",
   "metadata": {
    "execution": {
     "iopub.execute_input": "2024-01-27T14:50:38.880228Z",
     "iopub.status.busy": "2024-01-27T14:50:38.879908Z",
     "iopub.status.idle": "2024-01-27T14:55:10.537287Z",
     "shell.execute_reply": "2024-01-27T14:55:10.536230Z",
     "shell.execute_reply.started": "2024-01-27T14:50:38.880204Z"
    }
   },
   "outputs": [
    {
     "name": "stdout",
     "output_type": "stream",
     "text": [
      "Epoch 1: Train Loss: 2.1894, Train Accuracy: 0.1415, Validation Loss: 2.0464, Validation Accuracy: 0.1849\n",
      "Epoch 2: Train Loss: 1.9789, Train Accuracy: 0.2116, Validation Loss: 1.9001, Validation Accuracy: 0.2472\n",
      "Epoch 3: Train Loss: 1.8199, Train Accuracy: 0.2874, Validation Loss: 1.6100, Validation Accuracy: 0.3822\n",
      "Epoch 4: Train Loss: 1.5095, Train Accuracy: 0.4176, Validation Loss: 1.2819, Validation Accuracy: 0.5337\n",
      "Epoch 5: Train Loss: 1.2853, Train Accuracy: 0.5178, Validation Loss: 1.0870, Validation Accuracy: 0.6198\n",
      "Epoch 6: Train Loss: 1.1327, Train Accuracy: 0.5837, Validation Loss: 0.9476, Validation Accuracy: 0.6699\n",
      "Epoch 7: Train Loss: 1.0152, Train Accuracy: 0.6301, Validation Loss: 0.8517, Validation Accuracy: 0.6983\n",
      "Epoch 8: Train Loss: 0.9186, Train Accuracy: 0.6667, Validation Loss: 0.7767, Validation Accuracy: 0.7214\n",
      "Epoch 9: Train Loss: 0.8342, Train Accuracy: 0.6977, Validation Loss: 0.7124, Validation Accuracy: 0.7406\n",
      "Epoch 10: Train Loss: 0.7551, Train Accuracy: 0.7263, Validation Loss: 0.6581, Validation Accuracy: 0.7576\n",
      "Epoch 11: Train Loss: 0.6850, Train Accuracy: 0.7511, Validation Loss: 0.6103, Validation Accuracy: 0.7724\n",
      "Epoch 12: Train Loss: 0.6231, Train Accuracy: 0.7727, Validation Loss: 0.5696, Validation Accuracy: 0.7844\n",
      "Epoch 13: Train Loss: 0.5691, Train Accuracy: 0.7910, Validation Loss: 0.5360, Validation Accuracy: 0.7937\n",
      "Epoch 14: Train Loss: 0.5228, Train Accuracy: 0.8066, Validation Loss: 0.5138, Validation Accuracy: 0.7990\n",
      "Epoch 15: Train Loss: 0.4861, Train Accuracy: 0.8187, Validation Loss: 0.4959, Validation Accuracy: 0.8027\n",
      "Epoch 16: Train Loss: 0.4562, Train Accuracy: 0.8288, Validation Loss: 0.4873, Validation Accuracy: 0.8039\n",
      "Epoch 17: Train Loss: 0.4321, Train Accuracy: 0.8373, Validation Loss: 0.4799, Validation Accuracy: 0.8055\n",
      "Epoch 18: Train Loss: 0.4099, Train Accuracy: 0.8449, Validation Loss: 0.4774, Validation Accuracy: 0.8056\n",
      "Epoch 19: Train Loss: 0.3925, Train Accuracy: 0.8509, Validation Loss: 0.4765, Validation Accuracy: 0.8051\n",
      "Epoch 20: Train Loss: 0.3761, Train Accuracy: 0.8569, Validation Loss: 0.4750, Validation Accuracy: 0.8057\n",
      "Epoch 21: Train Loss: 0.3615, Train Accuracy: 0.8623, Validation Loss: 0.4752, Validation Accuracy: 0.8056\n",
      "Epoch 22: Train Loss: 0.3487, Train Accuracy: 0.8671, Validation Loss: 0.4760, Validation Accuracy: 0.8049\n",
      "Epoch 23: Train Loss: 0.3368, Train Accuracy: 0.8717, Validation Loss: 0.4799, Validation Accuracy: 0.8043\n",
      "Epoch 24: Train Loss: 0.3254, Train Accuracy: 0.8760, Validation Loss: 0.4842, Validation Accuracy: 0.8042\n",
      "Epoch 25: Train Loss: 0.3148, Train Accuracy: 0.8802, Validation Loss: 0.4868, Validation Accuracy: 0.8035\n"
     ]
    }
   ],
   "source": [
    "def calculate_accuracy(outputs, labels):\n",
    "    _, predicted = torch.max(outputs, dim=1)\n",
    "    correct = (predicted == labels).sum().item()\n",
    "    return correct / labels.size(0)\n",
    "\n",
    "def train_model(model, train_loader, val_loader, epochs, criterion, optimizer, device):\n",
    "    # Lists to store metrics\n",
    "    train_losses, val_losses = [], []\n",
    "    train_accuracies, val_accuracies = [], []\n",
    "    \n",
    "    for epoch in range(epochs):\n",
    "        model.train()\n",
    "        train_loss = 0.0\n",
    "        train_correct = 0\n",
    "        total_train = 0\n",
    "\n",
    "        # Training Phase\n",
    "        for puzzles, solutions in train_loader:\n",
    "            puzzles, solutions = puzzles.to(device), solutions.to(device)\n",
    "            optimizer.zero_grad()\n",
    "            outputs = model(puzzles)\n",
    "            loss = criterion(outputs, solutions.view(-1))\n",
    "            loss.backward()\n",
    "            optimizer.step()\n",
    "\n",
    "            train_loss += loss.item()\n",
    "            train_correct += calculate_accuracy(outputs, solutions.view(-1)) * solutions.size(0)\n",
    "            total_train += solutions.size(0)\n",
    "\n",
    "        avg_train_loss = train_loss / len(train_loader)\n",
    "        train_accuracy = train_correct / total_train\n",
    "        train_losses.append(avg_train_loss)\n",
    "        train_accuracies.append(train_accuracy)\n",
    "\n",
    "        # Validation Phase\n",
    "        model.eval()\n",
    "        val_loss = 0.0\n",
    "        val_correct = 0\n",
    "        total_val = 0\n",
    "\n",
    "        with torch.no_grad():\n",
    "            for puzzles, solutions in val_loader:\n",
    "                puzzles, solutions = puzzles.to(device), solutions.to(device)\n",
    "                outputs = model(puzzles)\n",
    "                val_loss += criterion(outputs, solutions.view(-1)).item()\n",
    "                val_correct += calculate_accuracy(outputs, solutions.view(-1)) * solutions.size(0)\n",
    "                total_val += solutions.size(0)\n",
    "\n",
    "        avg_val_loss = val_loss / len(val_loader)\n",
    "        val_accuracy = val_correct / total_val\n",
    "        val_losses.append(avg_val_loss)\n",
    "        val_accuracies.append(val_accuracy)\n",
    "\n",
    "        print(f'Epoch {epoch + 1}: '\n",
    "              f'Train Loss: {avg_train_loss:.4f}, '\n",
    "              f'Train Accuracy: {train_accuracy:.4f}, '\n",
    "              f'Validation Loss: {avg_val_loss:.4f}, '\n",
    "              f'Validation Accuracy: {val_accuracy:.4f}')\n",
    "    \n",
    "    return train_losses, train_accuracies, val_losses, val_accuracies\n",
    "\n",
    "train_losses, train_accuracies, val_losses, val_accuracies = train_model(model, train_loader, val_loader, epochs, criterion, optimizer, device)"
   ]
  },
  {
   "cell_type": "code",
   "execution_count": 7,
   "id": "103e65ea",
   "metadata": {
    "execution": {
     "iopub.execute_input": "2024-01-27T14:55:10.538897Z",
     "iopub.status.busy": "2024-01-27T14:55:10.538550Z",
     "iopub.status.idle": "2024-01-27T14:55:11.323087Z",
     "shell.execute_reply": "2024-01-27T14:55:11.322059Z",
     "shell.execute_reply.started": "2024-01-27T14:55:10.538844Z"
    }
   },
   "outputs": [
    {
     "data": {
      "image/png": "[encoded data removed]",
      "text/plain": [
       "<Figure size 1500x500 with 2 Axes>"
      ]
     },
     "metadata": {},
     "output_type": "display_data"
    }
   ],
   "source": [
    "fig, axes = plt.subplots(nrows=1, ncols=2, figsize=(15, 5))\n",
    "\n",
    "# Plot for Loss\n",
    "axes[0].plot(train_losses, label='Train Loss')\n",
    "axes[0].plot(val_losses, label='Validation Loss')\n",
    "axes[0].set_title('Loss vs. Epochs')\n",
    "axes[0].set_xlabel('Epochs')\n",
    "axes[0].set_ylabel('Loss')\n",
    "axes[0].legend()\n",
    "\n",
    "# Plot for Accuracy\n",
    "axes[1].plot(train_accuracies, label='Train Accuracy')\n",
    "axes[1].plot(val_accuracies, label='Validation Accuracy')\n",
    "axes[1].set_title('Accuracy vs. Epochs')\n",
    "axes[1].set_xlabel('Epochs')\n",
    "axes[1].set_ylabel('Accuracy')\n",
    "axes[1].legend()\n",
    "\n",
    "plt.tight_layout()\n",
    "plt.show()\n"
   ]
  },
  {
   "cell_type": "markdown",
   "id": "64909aed",
   "metadata": {},
   "source": [
    "## Testing with CNN"
   ]
  },
  {
   "cell_type": "code",
   "execution_count": 8,
   "id": "a866d0c6",
   "metadata": {
    "execution": {
     "iopub.execute_input": "2024-01-27T14:55:11.324538Z",
     "iopub.status.busy": "2024-01-27T14:55:11.324252Z",
     "iopub.status.idle": "2024-01-27T14:55:11.352623Z",
     "shell.execute_reply": "2024-01-27T14:55:11.351413Z",
     "shell.execute_reply.started": "2024-01-27T14:55:11.324512Z"
    }
   },
   "outputs": [
    {
     "data": {
      "text/html": [
       "<div>\n",
       "<style scoped>\n",
       "    .dataframe tbody tr th:only-of-type {\n",
       "        vertical-align: middle;\n",
       "    }\n",
       "\n",
       "    .dataframe tbody tr th {\n",
       "        vertical-align: top;\n",
       "    }\n",
       "\n",
       "    .dataframe thead th {\n",
       "        text-align: right;\n",
       "    }\n",
       "</style>\n",
       "<table border=\"1\" class=\"dataframe\">\n",
       "  <thead>\n",
       "    <tr style=\"text-align: right;\">\n",
       "      <th></th>\n",
       "      <th>test</th>\n",
       "    </tr>\n",
       "  </thead>\n",
       "  <tbody>\n",
       "    <tr>\n",
       "      <th>0</th>\n",
       "      <td>9027008137614000250800000706070950009106000542...</td>\n",
       "    </tr>\n",
       "    <tr>\n",
       "      <th>1</th>\n",
       "      <td>0708010200207300001060920040900754800520080038...</td>\n",
       "    </tr>\n",
       "    <tr>\n",
       "      <th>2</th>\n",
       "      <td>0009001650806000306012437008070950230307046009...</td>\n",
       "    </tr>\n",
       "    <tr>\n",
       "      <th>3</th>\n",
       "      <td>1580096070000760027264183000157040000040800510...</td>\n",
       "    </tr>\n",
       "    <tr>\n",
       "      <th>4</th>\n",
       "      <td>0020500096038002059700008361080005032060350800...</td>\n",
       "    </tr>\n",
       "    <tr>\n",
       "      <th>...</th>\n",
       "      <td>...</td>\n",
       "    </tr>\n",
       "    <tr>\n",
       "      <th>9995</th>\n",
       "      <td>0001050300407062100009405607510943060202507040...</td>\n",
       "    </tr>\n",
       "    <tr>\n",
       "      <th>9996</th>\n",
       "      <td>1058000404001300056030509170006005315060030092...</td>\n",
       "    </tr>\n",
       "    <tr>\n",
       "      <th>9997</th>\n",
       "      <td>0000278000703000900487500367800000040524009783...</td>\n",
       "    </tr>\n",
       "    <tr>\n",
       "      <th>9998</th>\n",
       "      <td>0020950000391800001050020980017200803275009164...</td>\n",
       "    </tr>\n",
       "    <tr>\n",
       "      <th>9999</th>\n",
       "      <td>0463518299308020000109005304730900005500300800...</td>\n",
       "    </tr>\n",
       "  </tbody>\n",
       "</table>\n",
       "<p>10000 rows × 1 columns</p>\n",
       "</div>"
      ],
      "text/plain": [
       "                                                   test\n",
       "0     9027008137614000250800000706070950009106000542...\n",
       "1     0708010200207300001060920040900754800520080038...\n",
       "2     0009001650806000306012437008070950230307046009...\n",
       "3     1580096070000760027264183000157040000040800510...\n",
       "4     0020500096038002059700008361080005032060350800...\n",
       "...                                                 ...\n",
       "9995  0001050300407062100009405607510943060202507040...\n",
       "9996  1058000404001300056030509170006005315060030092...\n",
       "9997  0000278000703000900487500367800000040524009783...\n",
       "9998  0020950000391800001050020980017200803275009164...\n",
       "9999  0463518299308020000109005304730900005500300800...\n",
       "\n",
       "[10000 rows x 1 columns]"
      ]
     },
     "execution_count": 8,
     "metadata": {},
     "output_type": "execute_result"
    }
   ],
   "source": [
    "#This testset is also prepared in data preparation notebook. \n",
    "import pandas as pd\n",
    "test=pd.read_csv(r\"C:\\Semester 2\\ANN\\Portfolio2\\Prepared_datasets\\testing_df.csv\")\n",
    "test"
   ]
  },
  {
   "cell_type": "code",
   "execution_count": 9,
   "id": "a738899f",
   "metadata": {
    "execution": {
     "iopub.execute_input": "2024-01-27T14:55:11.354659Z",
     "iopub.status.busy": "2024-01-27T14:55:11.354207Z",
     "iopub.status.idle": "2024-01-27T14:55:11.364275Z",
     "shell.execute_reply": "2024-01-27T14:55:11.363175Z",
     "shell.execute_reply.started": "2024-01-27T14:55:11.354617Z"
    }
   },
   "outputs": [],
   "source": [
    "def preprocess_puzzle(puzzle_str):\n",
    "    \"\"\"\n",
    "    Preprocess the input Sudoku puzzle string into a format suitable for the model.\n",
    "    \"\"\"\n",
    "    puzzle_tensor = torch.tensor([int(p) for p in puzzle_str], dtype=torch.float32).reshape(1, 1, 9, 9) / 9 - 0.5\n",
    "    return puzzle_tensor.to(device)\n",
    "\n",
    "def predict_test_set(model, test_df):\n",
    "    \"\"\"\n",
    "    Predict solutions for all puzzles in the test DataFrame.\n",
    "    \"\"\"\n",
    "    model.eval()\n",
    "    predictions = []\n",
    "\n",
    "    for _, row in test_df.iterrows():\n",
    "        puzzle_str = row['test']\n",
    "        with torch.no_grad():\n",
    "            puzzle_tensor = preprocess_puzzle(puzzle_str)\n",
    "            output = model(puzzle_tensor)\n",
    "            solution = output.argmax(dim=1).view(9, 9) + 1  # Convert predictions to 1-based indexing\n",
    "            predictions.append(solution.cpu().numpy())\n",
    "\n",
    "    return predictions"
   ]
  },
  {
   "cell_type": "code",
   "execution_count": 10,
   "id": "427a2975",
   "metadata": {
    "execution": {
     "iopub.execute_input": "2024-01-27T14:55:11.368128Z",
     "iopub.status.busy": "2024-01-27T14:55:11.367766Z",
     "iopub.status.idle": "2024-01-27T14:55:20.355388Z",
     "shell.execute_reply": "2024-01-27T14:55:20.354421Z",
     "shell.execute_reply.started": "2024-01-27T14:55:11.368090Z"
    }
   },
   "outputs": [],
   "source": [
    "# predict on the entire test set\n",
    "predicted_solutions = predict_test_set(model, test)"
   ]
  },
  {
   "cell_type": "code",
   "execution_count": 11,
   "id": "97fc9511",
   "metadata": {
    "execution": {
     "iopub.execute_input": "2024-01-27T14:55:20.357159Z",
     "iopub.status.busy": "2024-01-27T14:55:20.356802Z",
     "iopub.status.idle": "2024-01-27T14:55:21.751989Z",
     "shell.execute_reply": "2024-01-27T14:55:21.750803Z",
     "shell.execute_reply.started": "2024-01-27T14:55:20.357116Z"
    }
   },
   "outputs": [],
   "source": [
    "indexes = []\n",
    "labels= []\n",
    "for i,j in enumerate(predicted_solutions):\n",
    "    preds = j.reshape(9,9)\n",
    "    for row in range(0,9):\n",
    "        for col in range(0,9):\n",
    "            index = str(i)+\"_\"+str(row)+str(col)\n",
    "            indexes.append(index)\n",
    "            labels.append(preds[row,col])"
   ]
  },
  {
   "cell_type": "code",
   "execution_count": 12,
   "id": "1de78bda",
   "metadata": {
    "execution": {
     "iopub.execute_input": "2024-01-27T14:55:21.753611Z",
     "iopub.status.busy": "2024-01-27T14:55:21.753265Z",
     "iopub.status.idle": "2024-01-27T14:55:27.209974Z",
     "shell.execute_reply": "2024-01-27T14:55:27.208829Z",
     "shell.execute_reply.started": "2024-01-27T14:55:21.753585Z"
    }
   },
   "outputs": [
    {
     "name": "stdout",
     "output_type": "stream",
     "text": [
      "saved\n"
     ]
    }
   ],
   "source": [
    "CNN_Test_Predictions =  {\"id\":indexes , \"values\":labels}\n",
    "CNN_Test_Predictions = pd.DataFrame(CNN_Test_Predictions)\n",
    "CNN_Test_Predictions.to_csv(\"CNN_Test_Predictions.csv\", index=False)\n",
    "print('saved')"
   ]
  },
  {
   "cell_type": "markdown",
   "id": "81a83449",
   "metadata": {},
   "source": [
    "# Approach - 2: LSTM"
   ]
  },
  {
   "cell_type": "code",
   "execution_count": 13,
   "id": "1dba7b2b",
   "metadata": {
    "execution": {
     "iopub.execute_input": "2024-01-27T14:55:27.211758Z",
     "iopub.status.busy": "2024-01-27T14:55:27.211414Z",
     "iopub.status.idle": "2024-01-27T14:55:27.219664Z",
     "shell.execute_reply": "2024-01-27T14:55:27.218674Z",
     "shell.execute_reply.started": "2024-01-27T14:55:27.211728Z"
    }
   },
   "outputs": [],
   "source": [
    "class SudokuDataset(Dataset):\n",
    "    def __init__(self, dataframe, subset=\"train\"):\n",
    "        self.dataframe = dataframe\n",
    "        self.subset = subset\n",
    "\n",
    "    def __len__(self):\n",
    "        return len(self.dataframe)\n",
    "\n",
    "    def __getitem__(self, idx):\n",
    "        # Get puzzle and solution strings\n",
    "        puzzle_str = self.dataframe.iloc[idx, 0]\n",
    "        solution_str = self.dataframe.iloc[idx, 1]\n",
    "\n",
    "        # Convert strings to list of integers\n",
    "        puzzle = [int(p) for p in puzzle_str]\n",
    "        solution = [int(s) for s in solution_str]\n",
    "\n",
    "        # Convert lists to tensors\n",
    "        puzzle_tensor = torch.tensor(puzzle, dtype=torch.float32) / 9.0 - 0.5\n",
    "        solution_tensor = torch.tensor(solution, dtype=torch.int64) - 1\n",
    "        return puzzle_tensor, solution_tensor"
   ]
  },
  {
   "cell_type": "code",
   "execution_count": 14,
   "id": "fd0dbd52",
   "metadata": {
    "execution": {
     "iopub.execute_input": "2024-01-27T14:55:27.221607Z",
     "iopub.status.busy": "2024-01-27T14:55:27.221276Z",
     "iopub.status.idle": "2024-01-27T14:55:27.256066Z",
     "shell.execute_reply": "2024-01-27T14:55:27.254894Z",
     "shell.execute_reply.started": "2024-01-27T14:55:27.221580Z"
    }
   },
   "outputs": [],
   "source": [
    "class SudokuSolverLSTM(nn.Module):\n",
    "    def __init__(self, input_size=1, hidden_size=128, num_layers=3):\n",
    "        super(SudokuSolverLSTM, self).__init__()\n",
    "        self.input_size = input_size\n",
    "        self.hidden_size = hidden_size\n",
    "        self.num_layers = num_layers\n",
    "        self.lstm1 = nn.LSTM(input_size, hidden_size, num_layers, batch_first=True,bidirectional=True)\n",
    "        self.lstm2 = nn.LSTM(2*hidden_size, hidden_size, num_layers, batch_first=True, bidirectional=True)\n",
    "        self.lstm3 = nn.LSTM(2*hidden_size, hidden_size, num_layers, batch_first=True, bidirectional=True)\n",
    "        self.fc = nn.Linear(2*hidden_size, 9)  # Output: 9 possible digits\n",
    "\n",
    "    def forward(self, x):\n",
    "        # Initialize hidden and cell states\n",
    "        h0 = torch.zeros(self.num_layers*2, x.size(0), self.hidden_size).to(x.device)  # 2 for bidirection\n",
    "        c0 = torch.zeros(self.num_layers*2, x.size(0), self.hidden_size).to(x.device)\n",
    "        \n",
    "        # Forward propagate through LSTM layers\n",
    "        out, _ = self.lstm1(x.view(x.size(0), -1, self.input_size), (h0, c0))\n",
    "        out, _ = self.lstm2(out)\n",
    "        out, _ = self.lstm3(out)\n",
    "\n",
    "        # Reshape output for the fully connected layer\n",
    "        out = out.contiguous().view(-1, 2*self.hidden_size)  # 2 for bidirection\n",
    "        out = self.fc(out)  # Fully connected layer\n",
    "\n",
    "        # Reshape to have batch_size sequences of length 81\n",
    "        out = out.view(x.size(0), 81, -1)\n",
    "        \n",
    "        return out"
   ]
  },
  {
   "cell_type": "code",
   "execution_count": 15,
   "id": "bb99589f",
   "metadata": {
    "execution": {
     "iopub.execute_input": "2024-01-27T14:55:27.258259Z",
     "iopub.status.busy": "2024-01-27T14:55:27.257956Z",
     "iopub.status.idle": "2024-01-27T14:55:27.274113Z",
     "shell.execute_reply": "2024-01-27T14:55:27.273086Z",
     "shell.execute_reply.started": "2024-01-27T14:55:27.258235Z"
    }
   },
   "outputs": [],
   "source": [
    "def train_model_lstm(model, train_loader, val_loader, epochs, criterion, optimizer, device):\n",
    "    # Lists to store metrics\n",
    "    train_losses, val_losses = [], []\n",
    "    train_accuracies, val_accuracies = [], []\n",
    "    \n",
    "    for epoch in range(epochs):\n",
    "        model.train()\n",
    "        train_loss = 0.0\n",
    "        train_correct = 0\n",
    "        total_train = 0\n",
    "\n",
    "        for puzzles, solutions in train_loader:\n",
    "            puzzles, solutions = puzzles.to(device), solutions.to(device).view(-1)\n",
    "            optimizer.zero_grad()\n",
    "            outputs = model(puzzles).view(-1, 9)\n",
    "            loss = criterion(outputs, solutions)\n",
    "            loss.backward()\n",
    "            optimizer.step()\n",
    "\n",
    "            train_loss += loss.item()\n",
    "            _, predicted = torch.max(outputs.data, -1)\n",
    "            train_correct += (predicted == solutions.view(-1)).sum().item()\n",
    "            total_train += solutions.numel()\n",
    "\n",
    "        avg_train_loss = train_loss / len(train_loader)\n",
    "        train_accuracy = train_correct / total_train\n",
    "        train_losses.append(avg_train_loss)\n",
    "        train_accuracies.append(train_accuracy)\n",
    "\n",
    "        model.eval()\n",
    "        val_loss = 0.0\n",
    "        val_correct = 0\n",
    "        total_val = 0\n",
    "\n",
    "        with torch.no_grad():\n",
    "            for puzzles, solutions in val_loader:\n",
    "                puzzles, solutions = puzzles.to(device), solutions.to(device).view(-1)\n",
    "                outputs = model(puzzles).view(-1, 9)\n",
    "                loss = criterion(outputs, solutions).item()\n",
    "                val_loss += loss\n",
    "                _, predicted = torch.max(outputs.data, -1)\n",
    "                val_correct += (predicted == solutions.view(-1)).sum().item()\n",
    "                total_val += solutions.numel()\n",
    "\n",
    "        avg_val_loss = val_loss / len(val_loader)\n",
    "        val_accuracy = val_correct / total_val\n",
    "        val_losses.append(avg_val_loss)\n",
    "        val_accuracies.append(val_accuracy)\n",
    "\n",
    "        print(f'Epoch {epoch + 1}: '\n",
    "              f'Train Loss: {avg_train_loss:.4f}, '\n",
    "              f'Train Accuracy: {train_accuracy:.4f}, '\n",
    "              f'Validation Loss: {avg_val_loss:.4f}, '\n",
    "              f'Validation Accuracy: {val_accuracy:.4f}')\n",
    "    \n",
    "    return train_losses, train_accuracies, val_losses, val_accuracies"
   ]
  },
  {
   "cell_type": "code",
   "execution_count": 16,
   "id": "71ac4af5",
   "metadata": {
    "execution": {
     "iopub.execute_input": "2024-01-27T14:55:27.275596Z",
     "iopub.status.busy": "2024-01-27T14:55:27.275283Z",
     "iopub.status.idle": "2024-01-27T15:05:34.754893Z",
     "shell.execute_reply": "2024-01-27T15:05:34.753813Z",
     "shell.execute_reply.started": "2024-01-27T14:55:27.275569Z"
    }
   },
   "outputs": [
    {
     "name": "stdout",
     "output_type": "stream",
     "text": [
      "Epoch 1: Train Loss: 2.1973, Train Accuracy: 0.1113, Validation Loss: 2.1972, Validation Accuracy: 0.1108\n",
      "Epoch 2: Train Loss: 2.1972, Train Accuracy: 0.1115, Validation Loss: 2.1972, Validation Accuracy: 0.1114\n",
      "Epoch 3: Train Loss: 2.1972, Train Accuracy: 0.1117, Validation Loss: 2.1972, Validation Accuracy: 0.1113\n",
      "Epoch 4: Train Loss: 2.1944, Train Accuracy: 0.1193, Validation Loss: 2.1829, Validation Accuracy: 0.1338\n",
      "Epoch 5: Train Loss: 2.1164, Train Accuracy: 0.1641, Validation Loss: 1.9275, Validation Accuracy: 0.3423\n",
      "Epoch 6: Train Loss: 1.7121, Train Accuracy: 0.3990, Validation Loss: 1.5143, Validation Accuracy: 0.5219\n",
      "Epoch 7: Train Loss: 1.3962, Train Accuracy: 0.5269, Validation Loss: 1.3005, Validation Accuracy: 0.5642\n",
      "Epoch 8: Train Loss: 1.2354, Train Accuracy: 0.5702, Validation Loss: 1.1835, Validation Accuracy: 0.5826\n",
      "Epoch 9: Train Loss: 1.1515, Train Accuracy: 0.5847, Validation Loss: 1.1244, Validation Accuracy: 0.5892\n",
      "Epoch 10: Train Loss: 1.1071, Train Accuracy: 0.5911, Validation Loss: 1.0920, Validation Accuracy: 0.5944\n",
      "Epoch 11: Train Loss: 1.0808, Train Accuracy: 0.5951, Validation Loss: 1.0705, Validation Accuracy: 0.5975\n",
      "Epoch 12: Train Loss: 1.0623, Train Accuracy: 0.5984, Validation Loss: 1.0542, Validation Accuracy: 0.6000\n",
      "Epoch 13: Train Loss: 1.0472, Train Accuracy: 0.6015, Validation Loss: 1.0402, Validation Accuracy: 0.6033\n",
      "Epoch 14: Train Loss: 1.0342, Train Accuracy: 0.6046, Validation Loss: 1.0280, Validation Accuracy: 0.6060\n",
      "Epoch 15: Train Loss: 1.0229, Train Accuracy: 0.6072, Validation Loss: 1.0177, Validation Accuracy: 0.6081\n",
      "Epoch 16: Train Loss: 1.0132, Train Accuracy: 0.6091, Validation Loss: 1.0085, Validation Accuracy: 0.6098\n",
      "Epoch 17: Train Loss: 1.0045, Train Accuracy: 0.6110, Validation Loss: 1.0003, Validation Accuracy: 0.6116\n",
      "Epoch 18: Train Loss: 0.9964, Train Accuracy: 0.6126, Validation Loss: 0.9925, Validation Accuracy: 0.6132\n"
     ]
    }
   ],
   "source": [
    "# Initialization and training\n",
    "model_lstm = SudokuSolverLSTM().to(device)\n",
    "optimizer = torch.optim.Adam(model_lstm.parameters(), lr=0.0001)\n",
    "criterion = nn.CrossEntropyLoss()\n",
    "epochs=18\n",
    "train_losses, train_accuracies, val_losses, val_accuracies = train_model_lstm(model_lstm, train_loader, val_loader, epochs, criterion, optimizer, device)"
   ]
  },
  {
   "cell_type": "code",
   "execution_count": 17,
   "id": "ce005fa8",
   "metadata": {
    "execution": {
     "iopub.execute_input": "2024-01-27T15:05:34.756913Z",
     "iopub.status.busy": "2024-01-27T15:05:34.756493Z",
     "iopub.status.idle": "2024-01-27T15:05:35.420176Z",
     "shell.execute_reply": "2024-01-27T15:05:35.419233Z",
     "shell.execute_reply.started": "2024-01-27T15:05:34.756875Z"
    }
   },
   "outputs": [
    {
     "data": {
      "image/png": "[encoded data removed]",
      "text/plain": [
       "<Figure size 1500x500 with 2 Axes>"
      ]
     },
     "metadata": {},
     "output_type": "display_data"
    }
   ],
   "source": [
    "# Plotting\n",
    "fig, axes = plt.subplots(nrows=1, ncols=2, figsize=(15, 5))\n",
    "\n",
    "# Plot for Loss\n",
    "axes[0].plot(train_losses, label='Train Loss')\n",
    "axes[0].plot(val_losses, label='Validation Loss')\n",
    "axes[0].set_title('Loss vs. Epochs')\n",
    "axes[0].set_xlabel('Epochs')\n",
    "axes[0].set_ylabel('Loss')\n",
    "axes[0].legend()\n",
    "\n",
    "# Plot for Accuracy\n",
    "axes[1].plot(train_accuracies, label='Train Accuracy')\n",
    "axes[1].plot(val_accuracies, label='Validation Accuracy')\n",
    "axes[1].set_title('Accuracy vs. Epochs')\n",
    "axes[1].set_xlabel('Epochs')\n",
    "axes[1].set_ylabel('Accuracy')\n",
    "axes[1].legend()\n",
    "\n",
    "plt.tight_layout()\n",
    "plt.show()"
   ]
  },
  {
   "cell_type": "markdown",
   "id": "b86d0cd7",
   "metadata": {},
   "source": [
    "### Testing with LSTM"
   ]
  },
  {
   "cell_type": "code",
   "execution_count": 18,
   "id": "e09e5aab",
   "metadata": {
    "execution": {
     "iopub.execute_input": "2024-01-27T15:05:35.421929Z",
     "iopub.status.busy": "2024-01-27T15:05:35.421614Z",
     "iopub.status.idle": "2024-01-27T15:07:08.761059Z",
     "shell.execute_reply": "2024-01-27T15:07:08.759942Z",
     "shell.execute_reply.started": "2024-01-27T15:05:35.421900Z"
    }
   },
   "outputs": [
    {
     "name": "stdout",
     "output_type": "stream",
     "text": [
      "saved\n"
     ]
    }
   ],
   "source": [
    "def preprocess_puzzle_lstm(puzzle_str):\n",
    "    \"\"\"\n",
    "    Preprocess the input Sudoku puzzle string into a format suitable for the LSTM model.\n",
    "    \"\"\"\n",
    "    # Convert string to list of integers and normalize the values\n",
    "    puzzle = [int(p) for p in puzzle_str]\n",
    "    puzzle_tensor = torch.tensor(puzzle, dtype=torch.float32) / 9.0 - 0.5\n",
    "    puzzle_tensor = puzzle_tensor.view(1, -1, 1)  # Reshape for the LSTM: (batch_size, sequence_length, input_size)\n",
    "    return puzzle_tensor.to(device)\n",
    "\n",
    "def predict_test_set_lstm(model, test_df):\n",
    "    \"\"\"\n",
    "    Predict solutions for all puzzles in the test DataFrame using the LSTM model.\n",
    "    \"\"\"\n",
    "    model.eval()\n",
    "    predictions = []\n",
    "\n",
    "    # Use iterrows to iterate over the DataFrame\n",
    "    for _, row in test_df.iterrows():\n",
    "        puzzle_str = row['test']\n",
    "        with torch.no_grad():\n",
    "            puzzle_tensor = preprocess_puzzle_lstm(puzzle_str)\n",
    "            output = model(puzzle_tensor)\n",
    "            # The LSTM model outputs a sequence, so we reshape the prediction to the desired 9x9 Sudoku grid\n",
    "            solution = output.argmax(dim=2).view(9, 9) + 1  # Convert predictions to 1-based indexing\n",
    "            predictions.append(solution.cpu().numpy())\n",
    "\n",
    "    return predictions\n",
    "\n",
    "# Predict on the entire test set using the LSTM model\n",
    "predicted_solutions_lstm = predict_test_set_lstm(model_lstm, test)\n",
    "\n",
    "# Convert the predictions to the required format\n",
    "indexes = []\n",
    "labels = []\n",
    "for i, solution in enumerate(predicted_solutions_lstm):\n",
    "    for row in range(9):\n",
    "        for col in range(9):\n",
    "            index = f\"{i}_{row}{col}\"\n",
    "            indexes.append(index)\n",
    "            labels.append(solution[row, col])\n",
    "\n",
    "# Create the DataFrame\n",
    "Test_Predictions_lstm = pd.DataFrame({\n",
    "    \"id\": indexes,\n",
    "    \"values\": labels\n",
    "})\n",
    "\n",
    "Test_Predictions_lstm.to_csv(\"Test_Predictions_lstm.csv\", index=False)\n",
    "print('saved')"
   ]
  },
  {
   "cell_type": "markdown",
   "id": "09103861",
   "metadata": {},
   "source": [
    "#### Conclusion:"
   ]
  },
  {
   "cell_type": "markdown",
   "id": "499002a1",
   "metadata": {},
   "source": [
    "1. Training With 50000 Games:\n",
    "\n",
    "    With CNN  - 81% Kaggle Accuracy\n",
    "    \n",
    "    with LSTM - 64% Kaggle Accuarcy"
   ]
  },
  {
   "cell_type": "markdown",
   "id": "f65400e7",
   "metadata": {},
   "source": [
    "2. Training with 1 Million Games:\n",
    "\n",
    "    With CNN - 84% Kaggle Accuracy\n",
    "    \n",
    "    With LSTM - 74% Kaggle Accuracy"
   ]
  },
  {
   "cell_type": "markdown",
   "id": "827c805a",
   "metadata": {},
   "source": [
    "3. Training with 9 Million Games:\n",
    "\n",
    "    With CNN - **94%** Kaggle Accuracy\n",
    "    \n",
    "    With LSTM - 82% Kaggle Accuracy"
   ]
  },
  {
   "cell_type": "markdown",
   "id": "69904af6",
   "metadata": {},
   "source": [
    "Finally I Got 94% in kaggle for Task 2. This notebook is only having training with 50000 Games. "
   ]
  },
  {
   "cell_type": "markdown",
   "id": "ceaf1de9",
   "metadata": {},
   "source": [
    "**Name: THARUN KUMAR KORINE PALLI**\n",
    "\n",
    "**Matriculation Number: 5123708**\n",
    "\n",
    "**Email: tharunkumar.korinepalli@study.thws.de**"
   ]
  },
  {
   "cell_type": "markdown",
   "id": "a2787851",
   "metadata": {},
   "source": [
    "# <center>THE END</center>"
   ]
  }
 ],
 "metadata": {
  "kaggle": {
   "accelerator": "gpu",
   "dataSources": [
    {
     "datasetId": 4278714,
     "sourceId": 7365201,
     "sourceType": "datasetVersion"
    }
   ],
   "dockerImageVersionId": 30636,
   "isGpuEnabled": true,
   "isInternetEnabled": true,
   "language": "python",
   "sourceType": "notebook"
  },
  "kernelspec": {
   "display_name": "Python 3 (ipykernel)",
   "language": "python",
   "name": "python3"
  },
  "language_info": {
   "codemirror_mode": {
    "name": "ipython",
    "version": 3
   },
   "file_extension": ".py",
   "mimetype": "text/x-python",
   "name": "python",
   "nbconvert_exporter": "python",
   "pygments_lexer": "ipython3",
   "version": "3.9.16"
  }
 },
 "nbformat": 4,
 "nbformat_minor": 5
}
