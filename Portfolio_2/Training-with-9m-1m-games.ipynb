{
 "cells": [
  {
   "cell_type": "code",
   "execution_count": 1,
   "id": "acda6bc2",
   "metadata": {
    "execution": {
     "iopub.execute_input": "2024-01-20T11:47:56.033549Z",
     "iopub.status.busy": "2024-01-20T11:47:56.033173Z",
     "iopub.status.idle": "2024-01-20T11:48:42.251594Z",
     "shell.execute_reply": "2024-01-20T11:48:42.250541Z",
     "shell.execute_reply.started": "2024-01-20T11:47:56.033516Z"
    }
   },
   "outputs": [
    {
     "data": {
      "text/html": [
       "<div>\n",
       "<style scoped>\n",
       "    .dataframe tbody tr th:only-of-type {\n",
       "        vertical-align: middle;\n",
       "    }\n",
       "\n",
       "    .dataframe tbody tr th {\n",
       "        vertical-align: top;\n",
       "    }\n",
       "\n",
       "    .dataframe thead th {\n",
       "        text-align: right;\n",
       "    }\n",
       "</style>\n",
       "<table border=\"1\" class=\"dataframe\">\n",
       "  <thead>\n",
       "    <tr style=\"text-align: right;\">\n",
       "      <th></th>\n",
       "      <th>puzzle</th>\n",
       "      <th>solution</th>\n",
       "    </tr>\n",
       "  </thead>\n",
       "  <tbody>\n",
       "    <tr>\n",
       "      <th>0</th>\n",
       "      <td>0700000430400096108006349000940520003584600200...</td>\n",
       "      <td>6795182435437296188216349577943521863584617292...</td>\n",
       "    </tr>\n",
       "    <tr>\n",
       "      <th>1</th>\n",
       "      <td>3010865040465210705000000014008000020803479000...</td>\n",
       "      <td>3719865248465213795924738614638197522853479167...</td>\n",
       "    </tr>\n",
       "    <tr>\n",
       "      <th>2</th>\n",
       "      <td>0483015603600080909106700030200009355090102006...</td>\n",
       "      <td>7483915623652487919126754834217869355894132766...</td>\n",
       "    </tr>\n",
       "    <tr>\n",
       "      <th>3</th>\n",
       "      <td>0083170000042051090000400703271609049014500000...</td>\n",
       "      <td>2983176457642851391539462783271689549814537266...</td>\n",
       "    </tr>\n",
       "    <tr>\n",
       "      <th>4</th>\n",
       "      <td>0408906300001368208007405190004670524500207002...</td>\n",
       "      <td>1428956379751368248367425193984671524513287962...</td>\n",
       "    </tr>\n",
       "    <tr>\n",
       "      <th>...</th>\n",
       "      <td>...</td>\n",
       "      <td>...</td>\n",
       "    </tr>\n",
       "    <tr>\n",
       "      <th>8999995</th>\n",
       "      <td>2048090300004200800806300000910006083009041207...</td>\n",
       "      <td>2648197351374259865896372414913726583569841277...</td>\n",
       "    </tr>\n",
       "    <tr>\n",
       "      <th>8999996</th>\n",
       "      <td>8001003000005900045296401704000000212080190506...</td>\n",
       "      <td>8641723951735982645296431784578369212384196576...</td>\n",
       "    </tr>\n",
       "    <tr>\n",
       "      <th>8999997</th>\n",
       "      <td>0000003000008054604900630810070800301000592088...</td>\n",
       "      <td>2687143953718954624952637816571829341346592788...</td>\n",
       "    </tr>\n",
       "    <tr>\n",
       "      <th>8999998</th>\n",
       "      <td>0290061007030000608617020054300009010000100400...</td>\n",
       "      <td>5298461377431598628617324954376289512859137469...</td>\n",
       "    </tr>\n",
       "    <tr>\n",
       "      <th>8999999</th>\n",
       "      <td>0040109000000003151025890000000902068007600099...</td>\n",
       "      <td>5743169286892473151325897644178932568537621499...</td>\n",
       "    </tr>\n",
       "  </tbody>\n",
       "</table>\n",
       "<p>9000000 rows × 2 columns</p>\n",
       "</div>"
      ],
      "text/plain": [
       "                                                    puzzle  \\\n",
       "0        0700000430400096108006349000940520003584600200...   \n",
       "1        3010865040465210705000000014008000020803479000...   \n",
       "2        0483015603600080909106700030200009355090102006...   \n",
       "3        0083170000042051090000400703271609049014500000...   \n",
       "4        0408906300001368208007405190004670524500207002...   \n",
       "...                                                    ...   \n",
       "8999995  2048090300004200800806300000910006083009041207...   \n",
       "8999996  8001003000005900045296401704000000212080190506...   \n",
       "8999997  0000003000008054604900630810070800301000592088...   \n",
       "8999998  0290061007030000608617020054300009010000100400...   \n",
       "8999999  0040109000000003151025890000000902068007600099...   \n",
       "\n",
       "                                                  solution  \n",
       "0        6795182435437296188216349577943521863584617292...  \n",
       "1        3719865248465213795924738614638197522853479167...  \n",
       "2        7483915623652487919126754834217869355894132766...  \n",
       "3        2983176457642851391539462783271689549814537266...  \n",
       "4        1428956379751368248367425193984671524513287962...  \n",
       "...                                                    ...  \n",
       "8999995  2648197351374259865896372414913726583569841277...  \n",
       "8999996  8641723951735982645296431784578369212384196576...  \n",
       "8999997  2687143953718954624952637816571829341346592788...  \n",
       "8999998  5298461377431598628617324954376289512859137469...  \n",
       "8999999  5743169286892473151325897644178932568537621499...  \n",
       "\n",
       "[9000000 rows x 2 columns]"
      ]
     },
     "execution_count": 1,
     "metadata": {},
     "output_type": "execute_result"
    }
   ],
   "source": [
    "import torch\n",
    "from torch.utils.data import Dataset, DataLoader\n",
    "import pandas as pd\n",
    "import numpy as np\n",
    "\n",
    "data = pd.read_csv(\"/kaggle/input/d/rohanrao/sudoku/sudoku.csv\")\n",
    "data"
   ]
  },
  {
   "cell_type": "markdown",
   "id": "809f7b3f",
   "metadata": {},
   "source": [
    "## CNN"
   ]
  },
  {
   "cell_type": "code",
   "execution_count": 3,
   "id": "578e375a",
   "metadata": {
    "execution": {
     "iopub.execute_input": "2024-01-20T11:48:52.557271Z",
     "iopub.status.busy": "2024-01-20T11:48:52.556578Z",
     "iopub.status.idle": "2024-01-20T11:48:52.568129Z",
     "shell.execute_reply": "2024-01-20T11:48:52.567035Z",
     "shell.execute_reply.started": "2024-01-20T11:48:52.557237Z"
    }
   },
   "outputs": [],
   "source": [
    "class SudokuDataset(Dataset):\n",
    "    def __init__(self, dataframe, subset=\"train\"):\n",
    "        self.dataframe = dataframe\n",
    "        self.subset = subset\n",
    "\n",
    "    def __len__(self):\n",
    "        return len(self.dataframe)\n",
    "\n",
    "    def __getitem__(self, idx):\n",
    "        puzzle = self.dataframe.iloc[idx, 0]\n",
    "        solution = self.dataframe.iloc[idx, 1]\n",
    "\n",
    "        puzzle = torch.tensor([int(p) for p in puzzle], dtype=torch.float32).reshape(1, 9, 9) / 9 - 0.5\n",
    "        if self.subset == 'train':\n",
    "            # Subtracting 1 from each solution value to match PyTorch's 0-based indexing\n",
    "            solution = torch.tensor([int(s) - 1 for s in solution], dtype=torch.int64).reshape(81)\n",
    "            return puzzle, solution\n",
    "        return puzzle\n",
    "    \n",
    "train_idx = int(len(data) * 0.98)\n",
    "train_data = SudokuDataset(data.iloc[:train_idx], subset=\"train\")\n",
    "train_loader = DataLoader(train_data, batch_size=640, shuffle=True)\n",
    "\n",
    "val_data = SudokuDataset(data.iloc[train_idx:], subset=\"train\")\n",
    "val_loader = DataLoader(val_data, batch_size=640, shuffle=False)"
   ]
  },
  {
   "cell_type": "code",
   "execution_count": 4,
   "id": "a2d1999c",
   "metadata": {
    "execution": {
     "iopub.execute_input": "2024-01-20T11:48:59.660676Z",
     "iopub.status.busy": "2024-01-20T11:48:59.660239Z",
     "iopub.status.idle": "2024-01-20T11:48:59.772049Z",
     "shell.execute_reply": "2024-01-20T11:48:59.770999Z",
     "shell.execute_reply.started": "2024-01-20T11:48:59.660644Z"
    }
   },
   "outputs": [],
   "source": [
    "import torch.nn as nn\n",
    "import torch.nn.functional as F\n",
    "\n",
    "class SudokuSolver(nn.Module):\n",
    "    def __init__(self):\n",
    "        super(SudokuSolver, self).__init__()\n",
    "        self.conv1 = nn.Conv2d(1, 64, kernel_size=3, padding=1)\n",
    "        self.bn1 = nn.BatchNorm2d(64)\n",
    "        self.conv2 = nn.Conv2d(64, 128, kernel_size=3, padding=1)\n",
    "        self.bn2 = nn.BatchNorm2d(128)\n",
    "        self.conv3 = nn.Conv2d(128, 128, kernel_size=1)\n",
    "        self.fc1 = nn.Linear(128 * 9 * 9, 81 * 9)\n",
    "\n",
    "    def forward(self, x):\n",
    "        x = F.relu(self.bn1(self.conv1(x)))\n",
    "        x = F.relu(self.bn2(self.conv2(x)))\n",
    "        x = F.relu(self.conv3(x))\n",
    "        x = x.view(x.size(0), -1)\n",
    "        x = self.fc1(x)\n",
    "        return x.view(-1, 9)  # Reshaped to match [batch_size * 81, 9]\n",
    "\n",
    "model = SudokuSolver()"
   ]
  },
  {
   "cell_type": "code",
   "execution_count": 5,
   "id": "6e8d4262",
   "metadata": {
    "execution": {
     "iopub.execute_input": "2024-01-20T11:49:03.759971Z",
     "iopub.status.busy": "2024-01-20T11:49:03.759595Z",
     "iopub.status.idle": "2024-01-20T11:49:03.950758Z",
     "shell.execute_reply": "2024-01-20T11:49:03.949960Z",
     "shell.execute_reply.started": "2024-01-20T11:49:03.759936Z"
    }
   },
   "outputs": [],
   "source": [
    "device = torch.device(\"cuda\" if torch.cuda.is_available() else \"cpu\")\n",
    "model.to(device)\n",
    "optimizer = torch.optim.Adam(model.parameters(), lr=0.001)\n",
    "criterion = nn.CrossEntropyLoss()"
   ]
  },
  {
   "cell_type": "code",
   "execution_count": 6,
   "id": "ba11f07f",
   "metadata": {
    "execution": {
     "iopub.execute_input": "2024-01-20T11:49:06.898253Z",
     "iopub.status.busy": "2024-01-20T11:49:06.897526Z",
     "iopub.status.idle": "2024-01-20T11:49:06.909806Z",
     "shell.execute_reply": "2024-01-20T11:49:06.908699Z",
     "shell.execute_reply.started": "2024-01-20T11:49:06.898218Z"
    }
   },
   "outputs": [],
   "source": [
    "def calculate_accuracy(outputs, labels):\n",
    "    _, predicted = torch.max(outputs, dim=1)\n",
    "    correct = (predicted == labels).sum().item()\n",
    "    return correct / labels.size(0)\n",
    "\n",
    "def train_model(model, train_loader, val_loader, epochs):\n",
    "    for epoch in range(epochs):\n",
    "        model.train()\n",
    "        train_loss = 0.0\n",
    "        train_correct = 0\n",
    "        total_train = 0\n",
    "        # Training Phase\n",
    "        for puzzles, solutions in train_loader:\n",
    "            puzzles, solutions = puzzles.to(device), solutions.to(device)\n",
    "            optimizer.zero_grad()\n",
    "            outputs = model(puzzles)\n",
    "            loss = criterion(outputs, solutions.view(-1))\n",
    "            loss.backward()\n",
    "            optimizer.step()\n",
    "\n",
    "            train_loss += loss.item()\n",
    "            train_correct += calculate_accuracy(outputs, solutions.view(-1)) * solutions.size(0)\n",
    "            total_train += solutions.size(0)\n",
    "\n",
    "        avg_train_loss = train_loss / len(train_loader)\n",
    "        train_accuracy = train_correct / total_train\n",
    "        # Validation Phase\n",
    "        model.eval()\n",
    "        val_loss = 0.0\n",
    "        val_correct = 0\n",
    "        total_val = 0\n",
    "\n",
    "        with torch.no_grad():\n",
    "            for puzzles, solutions in val_loader:\n",
    "                puzzles, solutions = puzzles.to(device), solutions.to(device)\n",
    "                outputs = model(puzzles)\n",
    "                val_loss += criterion(outputs, solutions.view(-1)).item()\n",
    "\n",
    "                val_correct += calculate_accuracy(outputs, solutions.view(-1)) * solutions.size(0)\n",
    "                total_val += solutions.size(0)\n",
    "\n",
    "        avg_val_loss = val_loss / len(val_loader)\n",
    "        val_accuracy = val_correct / total_val\n",
    "\n",
    "        print(f'Epoch {epoch + 1}: '\n",
    "              f'Train Loss: {avg_train_loss:.4f}, '\n",
    "              f'Train Accuracy: {train_accuracy:.4f}, '\n",
    "              f'Validation Loss: {avg_val_loss:.4f}, '\n",
    "              f'Validation Accuracy: {val_accuracy:.4f}')"
   ]
  },
  {
   "cell_type": "code",
   "execution_count": 7,
   "id": "d94f2573",
   "metadata": {
    "execution": {
     "iopub.execute_input": "2024-01-19T20:33:54.595421Z",
     "iopub.status.busy": "2024-01-19T20:33:54.595077Z",
     "iopub.status.idle": "2024-01-19T23:04:30.657087Z",
     "shell.execute_reply": "2024-01-19T23:04:30.656102Z",
     "shell.execute_reply.started": "2024-01-19T20:33:54.595396Z"
    },
    "scrolled": true
   },
   "outputs": [
    {
     "name": "stdout",
     "output_type": "stream",
     "text": [
      "Epoch 1: Train Loss: 0.4286, Train Accuracy: 0.8022, Validation Loss: 0.3801, Validation Accuracy: 0.8195\n",
      "Epoch 2: Train Loss: 0.3751, Train Accuracy: 0.8228, Validation Loss: 0.3727, Validation Accuracy: 0.8245\n",
      "Epoch 3: Train Loss: 0.3695, Train Accuracy: 0.8267, Validation Loss: 0.3694, Validation Accuracy: 0.8269\n",
      "Epoch 4: Train Loss: 0.3666, Train Accuracy: 0.8287, Validation Loss: 0.3674, Validation Accuracy: 0.8281\n",
      "Epoch 5: Train Loss: 0.3645, Train Accuracy: 0.8300, Validation Loss: 0.3658, Validation Accuracy: 0.8293\n"
     ]
    }
   ],
   "source": [
    "train_model(model, train_loader, val_loader, 5)"
   ]
  },
  {
   "cell_type": "markdown",
   "id": "cfdd6f65",
   "metadata": {},
   "source": [
    "## Testing with CNN"
   ]
  },
  {
   "cell_type": "code",
   "execution_count": 8,
   "id": "e2f0e963",
   "metadata": {
    "execution": {
     "iopub.execute_input": "2024-01-20T11:49:15.237888Z",
     "iopub.status.busy": "2024-01-20T11:49:15.236959Z",
     "iopub.status.idle": "2024-01-20T11:49:15.263576Z",
     "shell.execute_reply": "2024-01-20T11:49:15.262591Z",
     "shell.execute_reply.started": "2024-01-20T11:49:15.237835Z"
    }
   },
   "outputs": [
    {
     "data": {
      "text/html": [
       "<div>\n",
       "<style scoped>\n",
       "    .dataframe tbody tr th:only-of-type {\n",
       "        vertical-align: middle;\n",
       "    }\n",
       "\n",
       "    .dataframe tbody tr th {\n",
       "        vertical-align: top;\n",
       "    }\n",
       "\n",
       "    .dataframe thead th {\n",
       "        text-align: right;\n",
       "    }\n",
       "</style>\n",
       "<table border=\"1\" class=\"dataframe\">\n",
       "  <thead>\n",
       "    <tr style=\"text-align: right;\">\n",
       "      <th></th>\n",
       "      <th>test</th>\n",
       "    </tr>\n",
       "  </thead>\n",
       "  <tbody>\n",
       "    <tr>\n",
       "      <th>0</th>\n",
       "      <td>9027008137614000250800000706070950009106000542...</td>\n",
       "    </tr>\n",
       "    <tr>\n",
       "      <th>1</th>\n",
       "      <td>0708010200207300001060920040900754800520080038...</td>\n",
       "    </tr>\n",
       "    <tr>\n",
       "      <th>2</th>\n",
       "      <td>0009001650806000306012437008070950230307046009...</td>\n",
       "    </tr>\n",
       "    <tr>\n",
       "      <th>3</th>\n",
       "      <td>1580096070000760027264183000157040000040800510...</td>\n",
       "    </tr>\n",
       "    <tr>\n",
       "      <th>4</th>\n",
       "      <td>0020500096038002059700008361080005032060350800...</td>\n",
       "    </tr>\n",
       "    <tr>\n",
       "      <th>...</th>\n",
       "      <td>...</td>\n",
       "    </tr>\n",
       "    <tr>\n",
       "      <th>9995</th>\n",
       "      <td>0001050300407062100009405607510943060202507040...</td>\n",
       "    </tr>\n",
       "    <tr>\n",
       "      <th>9996</th>\n",
       "      <td>1058000404001300056030509170006005315060030092...</td>\n",
       "    </tr>\n",
       "    <tr>\n",
       "      <th>9997</th>\n",
       "      <td>0000278000703000900487500367800000040524009783...</td>\n",
       "    </tr>\n",
       "    <tr>\n",
       "      <th>9998</th>\n",
       "      <td>0020950000391800001050020980017200803275009164...</td>\n",
       "    </tr>\n",
       "    <tr>\n",
       "      <th>9999</th>\n",
       "      <td>0463518299308020000109005304730900005500300800...</td>\n",
       "    </tr>\n",
       "  </tbody>\n",
       "</table>\n",
       "<p>10000 rows × 1 columns</p>\n",
       "</div>"
      ],
      "text/plain": [
       "                                                   test\n",
       "0     9027008137614000250800000706070950009106000542...\n",
       "1     0708010200207300001060920040900754800520080038...\n",
       "2     0009001650806000306012437008070950230307046009...\n",
       "3     1580096070000760027264183000157040000040800510...\n",
       "4     0020500096038002059700008361080005032060350800...\n",
       "...                                                 ...\n",
       "9995  0001050300407062100009405607510943060202507040...\n",
       "9996  1058000404001300056030509170006005315060030092...\n",
       "9997  0000278000703000900487500367800000040524009783...\n",
       "9998  0020950000391800001050020980017200803275009164...\n",
       "9999  0463518299308020000109005304730900005500300800...\n",
       "\n",
       "[10000 rows x 1 columns]"
      ]
     },
     "execution_count": 8,
     "metadata": {},
     "output_type": "execute_result"
    }
   ],
   "source": [
    "import pandas as pd\n",
    "test=pd.read_csv(\"/kaggle/input/sudoku/testing_df.csv\")\n",
    "test"
   ]
  },
  {
   "cell_type": "code",
   "execution_count": 9,
   "id": "ed142207",
   "metadata": {
    "execution": {
     "iopub.execute_input": "2024-01-19T23:04:30.706449Z",
     "iopub.status.busy": "2024-01-19T23:04:30.706159Z",
     "iopub.status.idle": "2024-01-19T23:04:30.713947Z",
     "shell.execute_reply": "2024-01-19T23:04:30.712969Z",
     "shell.execute_reply.started": "2024-01-19T23:04:30.706424Z"
    }
   },
   "outputs": [],
   "source": [
    "def preprocess_puzzle(puzzle_str):\n",
    "    \"\"\"\n",
    "    Preprocess the input Sudoku puzzle string into a format suitable for the model.\n",
    "    \"\"\"\n",
    "    puzzle_tensor = torch.tensor([int(p) for p in puzzle_str], dtype=torch.float32).reshape(1, 1, 9, 9) / 9 - 0.5\n",
    "    return puzzle_tensor.to(device)\n",
    "\n",
    "def predict_test_set(model, test_df):\n",
    "    \"\"\"\n",
    "    Predict solutions for all puzzles in the test DataFrame.\n",
    "    \"\"\"\n",
    "    model.eval()\n",
    "    predictions = []\n",
    "\n",
    "    for _, row in test_df.iterrows():\n",
    "        puzzle_str = row['test']\n",
    "        with torch.no_grad():\n",
    "            puzzle_tensor = preprocess_puzzle(puzzle_str)\n",
    "            output = model(puzzle_tensor)\n",
    "            solution = output.argmax(dim=1).view(9, 9) + 1  # Convert predictions to 1-based indexing\n",
    "            predictions.append(solution.cpu().numpy())\n",
    "\n",
    "    return predictions"
   ]
  },
  {
   "cell_type": "code",
   "execution_count": 10,
   "id": "78e04303",
   "metadata": {
    "execution": {
     "iopub.execute_input": "2024-01-19T23:04:30.717383Z",
     "iopub.status.busy": "2024-01-19T23:04:30.717086Z",
     "iopub.status.idle": "2024-01-19T23:04:38.941606Z",
     "shell.execute_reply": "2024-01-19T23:04:38.940563Z",
     "shell.execute_reply.started": "2024-01-19T23:04:30.717359Z"
    }
   },
   "outputs": [],
   "source": [
    "# predict on the entire test set\n",
    "predicted_solutions = predict_test_set(model, test)"
   ]
  },
  {
   "cell_type": "code",
   "execution_count": 11,
   "id": "4580bd58",
   "metadata": {
    "execution": {
     "iopub.execute_input": "2024-01-19T23:04:38.943421Z",
     "iopub.status.busy": "2024-01-19T23:04:38.943130Z",
     "iopub.status.idle": "2024-01-19T23:04:40.160015Z",
     "shell.execute_reply": "2024-01-19T23:04:40.159228Z",
     "shell.execute_reply.started": "2024-01-19T23:04:38.943396Z"
    }
   },
   "outputs": [],
   "source": [
    "indexes = []\n",
    "labels= []\n",
    "#for i,j in enumerate(predicted_solutions_df[\"predicted_solution\"]):\n",
    "for i,j in enumerate(predicted_solutions):\n",
    "    preds = j.reshape(9,9)\n",
    "    for row in range(0,9):\n",
    "        for col in range(0,9):\n",
    "            index = str(i)+\"_\"+str(row)+str(col)\n",
    "            indexes.append(index)\n",
    "            labels.append(preds[row,col])"
   ]
  },
  {
   "cell_type": "code",
   "execution_count": 12,
   "id": "55cf5125",
   "metadata": {
    "execution": {
     "iopub.execute_input": "2024-01-19T23:04:40.161309Z",
     "iopub.status.busy": "2024-01-19T23:04:40.161004Z",
     "iopub.status.idle": "2024-01-19T23:04:43.553846Z",
     "shell.execute_reply": "2024-01-19T23:04:43.552878Z",
     "shell.execute_reply.started": "2024-01-19T23:04:40.161284Z"
    }
   },
   "outputs": [
    {
     "data": {
      "text/html": [
       "<div>\n",
       "<style scoped>\n",
       "    .dataframe tbody tr th:only-of-type {\n",
       "        vertical-align: middle;\n",
       "    }\n",
       "\n",
       "    .dataframe tbody tr th {\n",
       "        vertical-align: top;\n",
       "    }\n",
       "\n",
       "    .dataframe thead th {\n",
       "        text-align: right;\n",
       "    }\n",
       "</style>\n",
       "<table border=\"1\" class=\"dataframe\">\n",
       "  <thead>\n",
       "    <tr style=\"text-align: right;\">\n",
       "      <th></th>\n",
       "      <th>id</th>\n",
       "      <th>values</th>\n",
       "    </tr>\n",
       "  </thead>\n",
       "  <tbody>\n",
       "    <tr>\n",
       "      <th>0</th>\n",
       "      <td>0_00</td>\n",
       "      <td>9</td>\n",
       "    </tr>\n",
       "    <tr>\n",
       "      <th>1</th>\n",
       "      <td>0_01</td>\n",
       "      <td>4</td>\n",
       "    </tr>\n",
       "    <tr>\n",
       "      <th>2</th>\n",
       "      <td>0_02</td>\n",
       "      <td>2</td>\n",
       "    </tr>\n",
       "    <tr>\n",
       "      <th>3</th>\n",
       "      <td>0_03</td>\n",
       "      <td>7</td>\n",
       "    </tr>\n",
       "    <tr>\n",
       "      <th>4</th>\n",
       "      <td>0_04</td>\n",
       "      <td>5</td>\n",
       "    </tr>\n",
       "    <tr>\n",
       "      <th>...</th>\n",
       "      <td>...</td>\n",
       "      <td>...</td>\n",
       "    </tr>\n",
       "    <tr>\n",
       "      <th>809995</th>\n",
       "      <td>9999_84</td>\n",
       "      <td>1</td>\n",
       "    </tr>\n",
       "    <tr>\n",
       "      <th>809996</th>\n",
       "      <td>9999_85</td>\n",
       "      <td>8</td>\n",
       "    </tr>\n",
       "    <tr>\n",
       "      <th>809997</th>\n",
       "      <td>9999_86</td>\n",
       "      <td>3</td>\n",
       "    </tr>\n",
       "    <tr>\n",
       "      <th>809998</th>\n",
       "      <td>9999_87</td>\n",
       "      <td>9</td>\n",
       "    </tr>\n",
       "    <tr>\n",
       "      <th>809999</th>\n",
       "      <td>9999_88</td>\n",
       "      <td>8</td>\n",
       "    </tr>\n",
       "  </tbody>\n",
       "</table>\n",
       "<p>810000 rows × 2 columns</p>\n",
       "</div>"
      ],
      "text/plain": [
       "             id  values\n",
       "0          0_00       9\n",
       "1          0_01       4\n",
       "2          0_02       2\n",
       "3          0_03       7\n",
       "4          0_04       5\n",
       "...         ...     ...\n",
       "809995  9999_84       1\n",
       "809996  9999_85       8\n",
       "809997  9999_86       3\n",
       "809998  9999_87       9\n",
       "809999  9999_88       8\n",
       "\n",
       "[810000 rows x 2 columns]"
      ]
     },
     "execution_count": 12,
     "metadata": {},
     "output_type": "execute_result"
    }
   ],
   "source": [
    "CNN_Test_Predictions =  {\"id\":indexes , \"values\":labels}\n",
    "CNN_Test_Predictions = pd.DataFrame(CNN_Test_Predictions)\n",
    "CNN_Test_Predictions"
   ]
  },
  {
   "cell_type": "code",
   "execution_count": 13,
   "id": "fe35b831",
   "metadata": {
    "execution": {
     "iopub.execute_input": "2024-01-19T23:04:43.555175Z",
     "iopub.status.busy": "2024-01-19T23:04:43.554878Z",
     "iopub.status.idle": "2024-01-19T23:04:45.094633Z",
     "shell.execute_reply": "2024-01-19T23:04:45.093836Z",
     "shell.execute_reply.started": "2024-01-19T23:04:43.555149Z"
    }
   },
   "outputs": [],
   "source": [
    "CNN_Test_Predictions.to_csv(\"CNN_Test_Predictions.csv\", index=False)"
   ]
  },
  {
   "cell_type": "markdown",
   "id": "02ea54c8",
   "metadata": {},
   "source": [
    "## LSTM"
   ]
  },
  {
   "cell_type": "code",
   "execution_count": 14,
   "id": "46e7b4cd",
   "metadata": {
    "execution": {
     "iopub.execute_input": "2024-01-20T11:50:03.871636Z",
     "iopub.status.busy": "2024-01-20T11:50:03.871267Z",
     "iopub.status.idle": "2024-01-20T11:50:03.879035Z",
     "shell.execute_reply": "2024-01-20T11:50:03.878093Z",
     "shell.execute_reply.started": "2024-01-20T11:50:03.871605Z"
    }
   },
   "outputs": [],
   "source": [
    "class SudokuDataset(Dataset):\n",
    "    def __init__(self, dataframe, subset=\"train\"):\n",
    "        self.dataframe = dataframe\n",
    "        self.subset = subset\n",
    "\n",
    "    def __len__(self):\n",
    "        return len(self.dataframe)\n",
    "\n",
    "    def __getitem__(self, idx):\n",
    "        # Get puzzle and solution strings\n",
    "        puzzle_str = self.dataframe.iloc[idx, 0]\n",
    "        solution_str = self.dataframe.iloc[idx, 1]\n",
    "\n",
    "        # Convert strings to list of integers\n",
    "        puzzle = [int(p) for p in puzzle_str]\n",
    "        solution = [int(s) for s in solution_str]\n",
    "\n",
    "        # Convert lists to tensors\n",
    "        puzzle_tensor = torch.tensor(puzzle, dtype=torch.float32) / 9.0 - 0.5\n",
    "        solution_tensor = torch.tensor(solution, dtype=torch.int64) - 1\n",
    "        return puzzle_tensor, solution_tensor"
   ]
  },
  {
   "cell_type": "code",
   "execution_count": 15,
   "id": "b5885b3d",
   "metadata": {
    "execution": {
     "iopub.execute_input": "2024-01-20T11:50:07.086146Z",
     "iopub.status.busy": "2024-01-20T11:50:07.085749Z",
     "iopub.status.idle": "2024-01-20T11:50:07.098314Z",
     "shell.execute_reply": "2024-01-20T11:50:07.097307Z",
     "shell.execute_reply.started": "2024-01-20T11:50:07.086116Z"
    }
   },
   "outputs": [],
   "source": [
    "class SudokuSolverLSTM(nn.Module):\n",
    "    def __init__(self, input_size=1, hidden_size=128, num_layers=2, dropout=0.25):\n",
    "        super(SudokuSolverLSTM, self).__init__()\n",
    "        self.input_size = input_size\n",
    "        self.hidden_size = hidden_size\n",
    "        self.num_layers = num_layers\n",
    "        self.lstm1 = nn.LSTM(input_size, hidden_size, num_layers, batch_first=True, dropout=dropout, bidirectional=True)\n",
    "        self.lstm2 = nn.LSTM(2*hidden_size, hidden_size, num_layers, batch_first=True, dropout=dropout, bidirectional=True)\n",
    "        self.lstm3 = nn.LSTM(2*hidden_size, hidden_size, num_layers, batch_first=True, dropout=dropout, bidirectional=True)\n",
    "        self.fc = nn.Linear(2*hidden_size, 9)  # Output: 9 possible digits\n",
    "\n",
    "    def forward(self, x):\n",
    "        # Initialize hidden and cell states\n",
    "        h0 = torch.zeros(self.num_layers*2, x.size(0), self.hidden_size).to(x.device)  # 2 for bidirection\n",
    "        c0 = torch.zeros(self.num_layers*2, x.size(0), self.hidden_size).to(x.device)\n",
    "        \n",
    "        # Forward propagate through LSTM layers\n",
    "        out, _ = self.lstm1(x.view(x.size(0), -1, self.input_size), (h0, c0))\n",
    "        out, _ = self.lstm2(out)\n",
    "        out, _ = self.lstm3(out)\n",
    "\n",
    "        # Reshape output for the fully connected layer\n",
    "        out = out.contiguous().view(-1, 2*self.hidden_size)  # 2 for bidirection\n",
    "        out = self.fc(out)  # Fully connected layer\n",
    "\n",
    "        # Reshape to have batch_size sequences of length 81\n",
    "        out = out.view(x.size(0), 81, -1)\n",
    "        \n",
    "        return out"
   ]
  },
  {
   "cell_type": "code",
   "execution_count": 16,
   "id": "ad592850",
   "metadata": {
    "execution": {
     "iopub.execute_input": "2024-01-20T11:50:10.351191Z",
     "iopub.status.busy": "2024-01-20T11:50:10.350054Z",
     "iopub.status.idle": "2024-01-20T11:50:10.363392Z",
     "shell.execute_reply": "2024-01-20T11:50:10.362435Z",
     "shell.execute_reply.started": "2024-01-20T11:50:10.351146Z"
    }
   },
   "outputs": [],
   "source": [
    "def train_model_lstm(model, train_loader, val_loader, epochs, criterion, optimizer, device):\n",
    "    for epoch in range(epochs):\n",
    "        model.train()\n",
    "        train_loss = 0.0\n",
    "        train_correct = 0\n",
    "        total_train = 0\n",
    "\n",
    "        \n",
    "        for puzzles, solutions in train_loader:\n",
    "            puzzles, solutions = puzzles.to(device), solutions.to(device).view(-1)\n",
    "            optimizer.zero_grad()\n",
    "            outputs = model(puzzles).view(-1, 9)\n",
    "            loss = criterion(outputs, solutions)\n",
    "            loss.backward()\n",
    "            optimizer.step()\n",
    "\n",
    "            train_loss += loss.item()\n",
    "            _, predicted = torch.max(outputs.data, -1)\n",
    "            train_correct += (predicted == solutions.view(-1)).sum().item()\n",
    "            total_train += solutions.numel()\n",
    "\n",
    "\n",
    "        avg_train_loss = train_loss / len(train_loader)\n",
    "        train_accuracy = train_correct / total_train\n",
    "\n",
    "        model.eval()\n",
    "        val_loss = 0.0\n",
    "        val_correct = 0\n",
    "        total_val = 0\n",
    "        \n",
    "        with torch.no_grad():\n",
    "            for puzzles, solutions in val_loader:\n",
    "                puzzles, solutions = puzzles.to(device), solutions.to(device).view(-1)\n",
    "                outputs = model(puzzles.view(puzzles.size(0), -1, model.input_size)).view(-1, 9)\n",
    "                loss = criterion(outputs, solutions).item()\n",
    "                val_loss += loss\n",
    "                _, predicted = torch.max(outputs.data, -1)\n",
    "                val_correct += (predicted == solutions.view(-1)).sum().item()\n",
    "                total_val += solutions.numel()\n",
    "\n",
    "\n",
    "        avg_val_loss = val_loss / len(val_loader)\n",
    "        val_accuracy = val_correct / total_val\n",
    "\n",
    "        print(f'Epoch {epoch + 1}: '\n",
    "              f'Train Loss: {avg_train_loss:.4f}, '\n",
    "              f'Train Accuracy: {train_accuracy:.4f}, '\n",
    "              f'Validation Loss: {avg_val_loss:.4f}, '\n",
    "              f'Validation Accuracy: {val_accuracy:.4f}')"
   ]
  },
  {
   "cell_type": "code",
   "execution_count": 17,
   "id": "f5613e0a",
   "metadata": {
    "execution": {
     "iopub.execute_input": "2024-01-20T11:50:21.264936Z",
     "iopub.status.busy": "2024-01-20T11:50:21.264129Z",
     "iopub.status.idle": "2024-01-20T11:50:21.442056Z",
     "shell.execute_reply": "2024-01-20T11:50:21.440956Z",
     "shell.execute_reply.started": "2024-01-20T11:50:21.264901Z"
    }
   },
   "outputs": [],
   "source": [
    "# Initialization and training\n",
    "model_lstm = SudokuSolverLSTM().to(device)\n",
    "optimizer = torch.optim.Adam(model_lstm.parameters(), lr=0.001)\n",
    "criterion = nn.CrossEntropyLoss()"
   ]
  },
  {
   "cell_type": "code",
   "execution_count": 18,
   "id": "7a99cb2a",
   "metadata": {
    "execution": {
     "iopub.execute_input": "2024-01-20T11:50:23.883395Z",
     "iopub.status.busy": "2024-01-20T11:50:23.882521Z",
     "iopub.status.idle": "2024-01-20T12:39:27.805375Z",
     "shell.execute_reply": "2024-01-20T12:39:27.804359Z",
     "shell.execute_reply.started": "2024-01-20T11:50:23.883358Z"
    }
   },
   "outputs": [
    {
     "name": "stdout",
     "output_type": "stream",
     "text": [
      "Epoch 1: Train Loss: 1.2502, Train Accuracy: 0.5041, Validation Loss: 1.0245, Validation Accuracy: 0.5460\n",
      "Epoch 2: Train Loss: 1.1602, Train Accuracy: 0.5232, Validation Loss: 1.0211, Validation Accuracy: 0.5437\n",
      "Epoch 3: Train Loss: 0.9050, Train Accuracy: 0.5942, Validation Loss: 0.7654, Validation Accuracy: 0.6479\n",
      "Epoch 4: Train Loss: 1.0482, Train Accuracy: 0.5563, Validation Loss: 1.3902, Validation Accuracy: 0.4726\n",
      "Epoch 5: Train Loss: 0.8860, Train Accuracy: 0.6137, Validation Loss: 0.7167, Validation Accuracy: 0.6657\n"
     ]
    }
   ],
   "source": [
    "train_model_lstm(model_lstm, train_loader, val_loader, 5, criterion, optimizer, device)"
   ]
  },
  {
   "cell_type": "markdown",
   "id": "75e1a847",
   "metadata": {},
   "source": [
    "### Testing with LSTM"
   ]
  },
  {
   "cell_type": "code",
   "execution_count": 19,
   "id": "5e0a7659",
   "metadata": {
    "execution": {
     "iopub.execute_input": "2024-01-20T12:49:02.739422Z",
     "iopub.status.busy": "2024-01-20T12:49:02.739026Z",
     "iopub.status.idle": "2024-01-20T12:50:06.939025Z",
     "shell.execute_reply": "2024-01-20T12:50:06.938035Z",
     "shell.execute_reply.started": "2024-01-20T12:49:02.739391Z"
    }
   },
   "outputs": [
    {
     "data": {
      "text/html": [
       "<div>\n",
       "<style scoped>\n",
       "    .dataframe tbody tr th:only-of-type {\n",
       "        vertical-align: middle;\n",
       "    }\n",
       "\n",
       "    .dataframe tbody tr th {\n",
       "        vertical-align: top;\n",
       "    }\n",
       "\n",
       "    .dataframe thead th {\n",
       "        text-align: right;\n",
       "    }\n",
       "</style>\n",
       "<table border=\"1\" class=\"dataframe\">\n",
       "  <thead>\n",
       "    <tr style=\"text-align: right;\">\n",
       "      <th></th>\n",
       "      <th>id</th>\n",
       "      <th>values</th>\n",
       "    </tr>\n",
       "  </thead>\n",
       "  <tbody>\n",
       "    <tr>\n",
       "      <th>0</th>\n",
       "      <td>0_00</td>\n",
       "      <td>9</td>\n",
       "    </tr>\n",
       "    <tr>\n",
       "      <th>1</th>\n",
       "      <td>0_01</td>\n",
       "      <td>4</td>\n",
       "    </tr>\n",
       "    <tr>\n",
       "      <th>2</th>\n",
       "      <td>0_02</td>\n",
       "      <td>2</td>\n",
       "    </tr>\n",
       "    <tr>\n",
       "      <th>3</th>\n",
       "      <td>0_03</td>\n",
       "      <td>7</td>\n",
       "    </tr>\n",
       "    <tr>\n",
       "      <th>4</th>\n",
       "      <td>0_04</td>\n",
       "      <td>5</td>\n",
       "    </tr>\n",
       "    <tr>\n",
       "      <th>...</th>\n",
       "      <td>...</td>\n",
       "      <td>...</td>\n",
       "    </tr>\n",
       "    <tr>\n",
       "      <th>809995</th>\n",
       "      <td>9999_84</td>\n",
       "      <td>5</td>\n",
       "    </tr>\n",
       "    <tr>\n",
       "      <th>809996</th>\n",
       "      <td>9999_85</td>\n",
       "      <td>1</td>\n",
       "    </tr>\n",
       "    <tr>\n",
       "      <th>809997</th>\n",
       "      <td>9999_86</td>\n",
       "      <td>3</td>\n",
       "    </tr>\n",
       "    <tr>\n",
       "      <th>809998</th>\n",
       "      <td>9999_87</td>\n",
       "      <td>9</td>\n",
       "    </tr>\n",
       "    <tr>\n",
       "      <th>809999</th>\n",
       "      <td>9999_88</td>\n",
       "      <td>8</td>\n",
       "    </tr>\n",
       "  </tbody>\n",
       "</table>\n",
       "<p>810000 rows × 2 columns</p>\n",
       "</div>"
      ],
      "text/plain": [
       "             id  values\n",
       "0          0_00       9\n",
       "1          0_01       4\n",
       "2          0_02       2\n",
       "3          0_03       7\n",
       "4          0_04       5\n",
       "...         ...     ...\n",
       "809995  9999_84       5\n",
       "809996  9999_85       1\n",
       "809997  9999_86       3\n",
       "809998  9999_87       9\n",
       "809999  9999_88       8\n",
       "\n",
       "[810000 rows x 2 columns]"
      ]
     },
     "execution_count": 19,
     "metadata": {},
     "output_type": "execute_result"
    }
   ],
   "source": [
    "def preprocess_puzzle_lstm(puzzle_str):\n",
    "    \"\"\"\n",
    "    Preprocess the input Sudoku puzzle string into a format suitable for the LSTM model.\n",
    "    \"\"\"\n",
    "    # Convert string to list of integers and normalize the values\n",
    "    puzzle = [int(p) for p in puzzle_str]\n",
    "    puzzle_tensor = torch.tensor(puzzle, dtype=torch.float32) / 9.0 - 0.5\n",
    "    puzzle_tensor = puzzle_tensor.view(1, -1, 1)  # Reshape for the LSTM: (batch_size, sequence_length, input_size)\n",
    "    return puzzle_tensor.to(device)\n",
    "\n",
    "def predict_test_set_lstm(model, test_df):\n",
    "    \"\"\"\n",
    "    Predict solutions for all puzzles in the test DataFrame using the LSTM model.\n",
    "    \"\"\"\n",
    "    model.eval()\n",
    "    predictions = []\n",
    "\n",
    "    # Use iterrows to iterate over the DataFrame\n",
    "    for _, row in test_df.iterrows():\n",
    "        puzzle_str = row['test']\n",
    "        with torch.no_grad():\n",
    "            puzzle_tensor = preprocess_puzzle_lstm(puzzle_str)\n",
    "            output = model(puzzle_tensor)\n",
    "            # The LSTM model outputs a sequence, so we reshape the prediction to the desired 9x9 Sudoku grid\n",
    "            solution = output.argmax(dim=2).view(9, 9) + 1  # Convert predictions to 1-based indexing\n",
    "            predictions.append(solution.cpu().numpy())\n",
    "\n",
    "    return predictions\n",
    "\n",
    "# Predict on the entire test set using the LSTM model\n",
    "predicted_solutions_lstm = predict_test_set_lstm(model_lstm, test)\n",
    "\n",
    "# submission\n",
    "indexes = []\n",
    "labels = []\n",
    "for i, solution in enumerate(predicted_solutions_lstm):\n",
    "    for row in range(9):\n",
    "        for col in range(9):\n",
    "            index = f\"{i}_{row}{col}\"\n",
    "            indexes.append(index)\n",
    "            labels.append(solution[row, col])\n",
    "\n",
    "# Create the DataFrame\n",
    "Test_Predictions_lstm = pd.DataFrame({\n",
    "    \"id\": indexes,\n",
    "    \"values\": labels\n",
    "})\n",
    "\n",
    "#predicted df\n",
    "Test_Predictions_lstm"
   ]
  },
  {
   "cell_type": "code",
   "execution_count": 20,
   "id": "86223e4f",
   "metadata": {
    "execution": {
     "iopub.execute_input": "2024-01-20T12:54:04.269500Z",
     "iopub.status.busy": "2024-01-20T12:54:04.269080Z",
     "iopub.status.idle": "2024-01-20T12:54:06.045205Z",
     "shell.execute_reply": "2024-01-20T12:54:06.044075Z",
     "shell.execute_reply.started": "2024-01-20T12:54:04.269467Z"
    }
   },
   "outputs": [],
   "source": [
    "Test_Predictions_lstm.to_csv(\"LSTM_Test_Predictions.csv\", index=False)"
   ]
  }
 ],
 "metadata": {
  "kaggle": {
   "accelerator": "gpu",
   "dataSources": [
    {
     "datasetId": 595,
     "sourceId": 1134,
     "sourceType": "datasetVersion"
    },
    {
     "datasetId": 4278714,
     "sourceId": 7365201,
     "sourceType": "datasetVersion"
    },
    {
     "datasetId": 415761,
     "sourceId": 794903,
     "sourceType": "datasetVersion"
    }
   ],
   "dockerImageVersionId": 30636,
   "isGpuEnabled": true,
   "isInternetEnabled": true,
   "language": "python",
   "sourceType": "notebook"
  },
  "kernelspec": {
   "display_name": "Python 3 (ipykernel)",
   "language": "python",
   "name": "python3"
  },
  "language_info": {
   "codemirror_mode": {
    "name": "ipython",
    "version": 3
   },
   "file_extension": ".py",
   "mimetype": "text/x-python",
   "name": "python",
   "nbconvert_exporter": "python",
   "pygments_lexer": "ipython3",
   "version": "3.9.16"
  }
 },
 "nbformat": 4,
 "nbformat_minor": 5
}
