{
 "cells": [
  {
   "cell_type": "markdown",
   "id": "5d7a5e39",
   "metadata": {},
   "source": [
    "# <center>Artificial Neural Networks and Cognitive Models</center>"
   ]
  },
  {
   "cell_type": "markdown",
   "id": "b89fc8ef",
   "metadata": {},
   "source": [
    "# <center>TASK - 1</center>"
   ]
  },
  {
   "cell_type": "markdown",
   "id": "785daa99",
   "metadata": {},
   "source": [
    "## Digit Predictor"
   ]
  },
  {
   "cell_type": "code",
   "execution_count": 1,
   "id": "a75f0846",
   "metadata": {},
   "outputs": [],
   "source": [
    "import torch\n",
    "import numpy as np\n",
    "import csv\n",
    "import time\n",
    "import torch.nn as nn\n",
    "import torch.nn.functional as F\n",
    "from PIL import Image\n",
    "from matplotlib import pyplot as plt\n",
    "import torchvision\n",
    "from torchvision import datasets, transforms\n",
    "from torch import optim\n",
    "import torch\n",
    "import torch.nn as nn\n",
    "import torch.nn.functional as F\n",
    "import numpy as np\n",
    "from matplotlib import pyplot as plt\n",
    "\n",
    "import os \n",
    "os.environ['KMP_DUPLICATE_LIB_OK']='True'\n",
    "\n",
    "# send model to train on gpu if available else it uses your cpu\n",
    "device = (\"cuda\" if torch.cuda.is_available() else \"cpu\")"
   ]
  },
  {
   "cell_type": "code",
   "execution_count": 2,
   "id": "0a77d895",
   "metadata": {},
   "outputs": [],
   "source": [
    "# Define a transform to normalize the data\n",
    "transform = transforms.Compose([transforms.ToTensor(),transforms.Normalize((0.1307,), (0.3081,))])\n",
    "# mean = 0.1307 # standard deviation = 0.3081 # for mnist data\n",
    "\n",
    "# Download and load the training data\n",
    "train_set = datasets.MNIST('DATA_MNIST/', download=True, train=True, transform=transform)\n",
    "trainloader = torch.utils.data.DataLoader(train_set, batch_size=64, shuffle=True)\n",
    "\n",
    "# Download and load the test data\n",
    "test_set = datasets.MNIST('DATA_MNIST/', download=True, train=False, transform=transform)\n",
    "testloader = torch.utils.data.DataLoader(test_set, batch_size=64, shuffle=True)"
   ]
  },
  {
   "cell_type": "code",
   "execution_count": 3,
   "id": "a4eb4770",
   "metadata": {
    "scrolled": true
   },
   "outputs": [
    {
     "name": "stdout",
     "output_type": "stream",
     "text": [
      "<class 'torch.Tensor'>\n",
      "torch.Size([64, 1, 28, 28])\n",
      "torch.Size([64])\n"
     ]
    }
   ],
   "source": [
    "training_data = enumerate(trainloader)\n",
    "batch_idx, (images, labels) = next(training_data)\n",
    "print(type(images))\n",
    "print(images.shape)\n",
    "print(labels.shape)"
   ]
  },
  {
   "cell_type": "code",
   "execution_count": 4,
   "id": "f75144e9",
   "metadata": {},
   "outputs": [
    {
     "data": {
      "image/png": "[encoded data removed]",
      "text/plain": [
       "<Figure size 600x400 with 4 Axes>"
      ]
     },
     "metadata": {},
     "output_type": "display_data"
    }
   ],
   "source": [
    "import matplotlib.pyplot as plt\n",
    "\n",
    "fig = plt.figure(figsize=(6, 4))\n",
    "\n",
    "for i in range(4):\n",
    "    # Create subplot\n",
    "    ax = plt.subplot(2, 2, i + 1)\n",
    "\n",
    "    # Display the image\n",
    "    ax.imshow(images[i][0], cmap='inferno')\n",
    "\n",
    "    # Set the title with improved formatting\n",
    "    ax.set_title(f\"Label: {labels[i]}\", fontsize=12, color='blue')\n",
    "\n",
    "    # Remove ticks from x and y axes\n",
    "    ax.set_xticks([])\n",
    "    ax.set_yticks([])\n",
    "\n",
    "# Adjust layout for better spacing\n",
    "plt.tight_layout(pad=3.0)\n",
    "\n",
    "# Show the figure\n",
    "plt.show()\n"
   ]
  },
  {
   "cell_type": "markdown",
   "id": "390e7dab",
   "metadata": {},
   "source": [
    "### APPROACH - 1 : MLP"
   ]
  },
  {
   "cell_type": "code",
   "execution_count": 5,
   "id": "21c83218",
   "metadata": {},
   "outputs": [
    {
     "name": "stdout",
     "output_type": "stream",
     "text": [
      "MLP(\n",
      "  (input_layer): Linear(in_features=784, out_features=128, bias=True)\n",
      "  (hidden_layer1): Linear(in_features=128, out_features=256, bias=True)\n",
      "  (hidden_layer2): Linear(in_features=256, out_features=128, bias=True)\n",
      "  (output_layer): Linear(in_features=128, out_features=10, bias=True)\n",
      ")\n"
     ]
    }
   ],
   "source": [
    "class MLP(nn.Module):\n",
    "    def __init__(self):\n",
    "        super(MLP, self).__init__()\n",
    "        # Input layer\n",
    "        self.input_layer = nn.Linear(in_features=28*28, out_features=128)  # Assuming input images are 28x28 pixels\n",
    "        # Hidden layers\n",
    "        self.hidden_layer1 = nn.Linear(in_features=128, out_features=256)\n",
    "        self.hidden_layer2 = nn.Linear(in_features=256, out_features=128)\n",
    "        # Output layer\n",
    "        self.output_layer = nn.Linear(in_features=128, out_features=10)  # Assuming 10 classes for classification\n",
    "\n",
    "    def forward(self, x):\n",
    "        # Flatten the input\n",
    "        x = x.view(x.size(0), -1)\n",
    "        # Activation functions for hidden layers\n",
    "        x = F.relu(self.input_layer(x))\n",
    "        x = F.relu(self.hidden_layer1(x))\n",
    "        x = F.relu(self.hidden_layer2(x))\n",
    "        x = self.output_layer(x)\n",
    "        return x\n",
    "\n",
    "# Instantiate the model\n",
    "mlp_model = MLP()\n",
    "mlp_model.to(device)\n",
    "print(mlp_model)\n"
   ]
  },
  {
   "cell_type": "code",
   "execution_count": 6,
   "id": "406cdddc-96ca-4f25-b790-b86cee5f477d",
   "metadata": {},
   "outputs": [
    {
     "name": "stdout",
     "output_type": "stream",
     "text": [
      "Epoch: 1/15   Training loss: 1.1348   Testing loss: 0.3918   Test accuracy: 0.8880  \n",
      "Epoch: 2/15   Training loss: 0.3405   Testing loss: 0.2781   Test accuracy: 0.9184  \n",
      "Epoch: 3/15   Training loss: 0.2652   Testing loss: 0.2356   Test accuracy: 0.9303  \n",
      "Epoch: 4/15   Training loss: 0.2208   Testing loss: 0.2001   Test accuracy: 0.9385  \n",
      "Epoch: 5/15   Training loss: 0.1887   Testing loss: 0.1704   Test accuracy: 0.9499  \n",
      "Epoch: 6/15   Training loss: 0.1632   Testing loss: 0.1582   Test accuracy: 0.9554  \n",
      "Epoch: 7/15   Training loss: 0.1436   Testing loss: 0.1375   Test accuracy: 0.9596  \n",
      "Epoch: 8/15   Training loss: 0.1278   Testing loss: 0.1275   Test accuracy: 0.9614  \n",
      "Epoch: 9/15   Training loss: 0.1141   Testing loss: 0.1219   Test accuracy: 0.9637  \n",
      "Epoch: 10/15   Training loss: 0.1026   Testing loss: 0.1110   Test accuracy: 0.9672  \n",
      "Epoch: 11/15   Training loss: 0.0928   Testing loss: 0.1038   Test accuracy: 0.9684  \n",
      "Epoch: 12/15   Training loss: 0.0846   Testing loss: 0.0990   Test accuracy: 0.9684  \n",
      "Epoch: 13/15   Training loss: 0.0771   Testing loss: 0.0944   Test accuracy: 0.9716  \n",
      "Epoch: 14/15   Training loss: 0.0708   Testing loss: 0.1011   Test accuracy: 0.9686  \n",
      "Epoch: 15/15   Training loss: 0.0647   Testing loss: 0.0850   Test accuracy: 0.9735  \n"
     ]
    }
   ],
   "source": [
    "import torch.optim as optim\n",
    "\n",
    "#optimizer and loss function for MLP\n",
    "optimizer = optim.SGD(mlp_model.parameters(), lr=0.01)\n",
    "criterion = nn.CrossEntropyLoss()\n",
    "epochs = 15\n",
    "\n",
    "train_losses = []\n",
    "test_losses = []\n",
    "\n",
    "# Training loop\n",
    "for epoch in range(epochs):\n",
    "    mlp_model.train()\n",
    "    train_loss = 0\n",
    "\n",
    "    for idx, (images, labels) in enumerate(trainloader): \n",
    "\n",
    "        # Send these to Gpu\n",
    "        images = images.to(device)\n",
    "        labels = labels.to(device)\n",
    "\n",
    "        # Training pass\n",
    "        optimizer.zero_grad()\n",
    "\n",
    "        # Forward pass\n",
    "        output = mlp_model(images)\n",
    "        loss = criterion(output, labels)\n",
    "\n",
    "        # Backward pass\n",
    "        loss.backward()\n",
    "        optimizer.step()\n",
    "\n",
    "        train_loss += loss.item()\n",
    "        \n",
    "    else:\n",
    "        # prep model for evaluation\n",
    "        mlp_model.eval() \n",
    "        test_loss = 0\n",
    "        accuracy = 0\n",
    "        \n",
    "        with torch.no_grad():\n",
    "            for images, labels in testloader:\n",
    "                \n",
    "                images = images.to(device)\n",
    "                labels = labels.to(device)\n",
    "                \n",
    "                log_probabilities = mlp_model(images)\n",
    "                test_loss += criterion(log_probabilities, labels)\n",
    "\n",
    "                probabilities = torch.exp(log_probabilities)\n",
    "                top_prob, top_class = probabilities.topk(1, dim=1)\n",
    "                predictions = top_class == labels.view(*top_class.shape)\n",
    "                accuracy += torch.mean(predictions.type(torch.FloatTensor))\n",
    "        \n",
    "        train_losses.append(train_loss/len(trainloader))\n",
    "        test_losses.append(test_loss/len(testloader))\n",
    "        \n",
    "        print(\"Epoch: {}/{}  \".format(epoch+1, epochs),\n",
    "              \"Training loss: {:.4f}  \".format(train_loss/len(trainloader)),\n",
    "              \"Testing loss: {:.4f}  \".format(test_loss/len(testloader)),\n",
    "              \"Test accuracy: {:.4f}  \".format(accuracy/len(testloader)))\n"
   ]
  },
  {
   "cell_type": "code",
   "execution_count": 7,
   "id": "3f22a98c",
   "metadata": {},
   "outputs": [
    {
     "data": {
      "image/png": "[encoded data removed]",
      "text/plain": [
       "<Figure size 640x480 with 1 Axes>"
      ]
     },
     "metadata": {},
     "output_type": "display_data"
    }
   ],
   "source": [
    "plt.plot(train_losses, label='Training loss')\n",
    "plt.plot(test_losses, label='Test loss')\n",
    "plt.legend()\n",
    "plt.grid()"
   ]
  },
  {
   "cell_type": "markdown",
   "id": "c9def02a",
   "metadata": {},
   "source": [
    "### APPROACH-2: CNN"
   ]
  },
  {
   "cell_type": "code",
   "execution_count": 8,
   "id": "291d222f",
   "metadata": {},
   "outputs": [
    {
     "name": "stdout",
     "output_type": "stream",
     "text": [
      "Network(\n",
      "  (convolutaional_neural_network_layers): Sequential(\n",
      "    (0): Conv2d(1, 12, kernel_size=(3, 3), stride=(1, 1), padding=(1, 1))\n",
      "    (1): ReLU()\n",
      "    (2): MaxPool2d(kernel_size=2, stride=2, padding=0, dilation=1, ceil_mode=False)\n",
      "    (3): Conv2d(12, 24, kernel_size=(3, 3), stride=(1, 1), padding=(1, 1))\n",
      "    (4): ReLU()\n",
      "    (5): MaxPool2d(kernel_size=2, stride=2, padding=0, dilation=1, ceil_mode=False)\n",
      "    (6): Conv2d(24, 48, kernel_size=(3, 3), stride=(1, 1), padding=(1, 1))\n",
      "    (7): ReLU()\n",
      "    (8): MaxPool2d(kernel_size=2, stride=2, padding=0, dilation=1, ceil_mode=False)\n",
      "  )\n",
      "  (linear_layers): Sequential(\n",
      "    (0): Linear(in_features=432, out_features=64, bias=True)\n",
      "    (1): ReLU()\n",
      "    (2): Dropout(p=0.25, inplace=False)\n",
      "    (3): Linear(in_features=64, out_features=10, bias=True)\n",
      "  )\n",
      ")\n"
     ]
    }
   ],
   "source": [
    "class Network(nn.Module):\n",
    "\n",
    "    def __init__(self):\n",
    "        super(Network, self).__init__()\n",
    "        # Convolutional Neural Network Layer \n",
    "        self.convolutaional_neural_network_layers = nn.Sequential(\n",
    "                nn.Conv2d(in_channels=1, out_channels=12, kernel_size=3, padding=1, stride=1), # (N, 1, 28, 28) \n",
    "                nn.ReLU(),\n",
    "                nn.MaxPool2d(kernel_size=2), \n",
    "                nn.Conv2d(in_channels=12, out_channels=24, kernel_size=3, padding=1, stride=1),\n",
    "                nn.ReLU(),\n",
    "                nn.MaxPool2d(kernel_size=2),\n",
    "                nn.Conv2d(in_channels=24, out_channels=48, kernel_size=3, padding=1, stride=1),  \n",
    "                nn.ReLU(),\n",
    "                nn.MaxPool2d(kernel_size=2)\n",
    "        )\n",
    "\n",
    "        # Linear layer\n",
    "        self.linear_layers = nn.Sequential(\n",
    "                nn.Linear(in_features=48*3*3, out_features=64),  # Adjusting the input size based on the output of the last convolutional layer         \n",
    "                nn.ReLU(),\n",
    "                nn.Dropout(p=0.25),  # Dropout with probability of 0.25 to avoid overfitting\n",
    "                nn.Linear(in_features=64, out_features=10 )# The output is 10 which should match the size of our class\n",
    "        )\n",
    "\n",
    "    # Defining the forward pass \n",
    "    def forward(self, x):\n",
    "        x = self.convolutaional_neural_network_layers(x)\n",
    "        x = x.view(x.size(0), -1)\n",
    "        x = self.linear_layers(x)\n",
    "        x = F.log_softmax(x, dim=1)\n",
    "        return x\n",
    "\n",
    "# Instantiate the model\n",
    "model = Network()\n",
    "model.to(device)\n",
    "print(model)"
   ]
  },
  {
   "cell_type": "code",
   "execution_count": 9,
   "id": "f5d00dab",
   "metadata": {},
   "outputs": [
    {
     "name": "stdout",
     "output_type": "stream",
     "text": [
      "Epoch: 1/15   Training loss: 1.2984   Testing loss: 0.3106   Test accuracy: 0.9110  \n",
      "Epoch: 2/15   Training loss: 0.2943   Testing loss: 0.1594   Test accuracy: 0.9528  \n",
      "Epoch: 3/15   Training loss: 0.1856   Testing loss: 0.1141   Test accuracy: 0.9654  \n",
      "Epoch: 4/15   Training loss: 0.1453   Testing loss: 0.0962   Test accuracy: 0.9690  \n",
      "Epoch: 5/15   Training loss: 0.1223   Testing loss: 0.0706   Test accuracy: 0.9772  \n",
      "Epoch: 6/15   Training loss: 0.1074   Testing loss: 0.0756   Test accuracy: 0.9736  \n",
      "Epoch: 7/15   Training loss: 0.0959   Testing loss: 0.0619   Test accuracy: 0.9793  \n",
      "Epoch: 8/15   Training loss: 0.0871   Testing loss: 0.0520   Test accuracy: 0.9833  \n",
      "Epoch: 9/15   Training loss: 0.0812   Testing loss: 0.0509   Test accuracy: 0.9837  \n",
      "Epoch: 10/15   Training loss: 0.0751   Testing loss: 0.0492   Test accuracy: 0.9843  \n",
      "Epoch: 11/15   Training loss: 0.0705   Testing loss: 0.0475   Test accuracy: 0.9847  \n",
      "Epoch: 12/15   Training loss: 0.0656   Testing loss: 0.0447   Test accuracy: 0.9849  \n",
      "Epoch: 13/15   Training loss: 0.0626   Testing loss: 0.0524   Test accuracy: 0.9824  \n",
      "Epoch: 14/15   Training loss: 0.0579   Testing loss: 0.0461   Test accuracy: 0.9854  \n",
      "Epoch: 15/15   Training loss: 0.0570   Testing loss: 0.0407   Test accuracy: 0.9874  \n"
     ]
    }
   ],
   "source": [
    "optimizer = optim.SGD(model.parameters(), lr=0.01)\n",
    "criterion = nn.CrossEntropyLoss()\n",
    "epochs = 15\n",
    "\n",
    "train_losses = []\n",
    "test_losses = []\n",
    "\n",
    "for epoch in range(epochs):\n",
    "    model.train()\n",
    "    train_loss = 0\n",
    "\n",
    "    for idx, (images, labels) in enumerate(trainloader): \n",
    "\n",
    "        # Send these to Gpu\n",
    "        images = images.to(device)\n",
    "        labels = labels.to(device)\n",
    "\n",
    "        # Training pass\n",
    "        optimizer.zero_grad()\n",
    "\n",
    "        # Forward pass\n",
    "        output = model(images)\n",
    "        loss = criterion(output, labels)\n",
    "\n",
    "        #Backward pass\n",
    "        loss.backward()\n",
    "        optimizer.step()\n",
    "\n",
    "        train_loss += loss.item()\n",
    "        \n",
    "    else:\n",
    "        # prep model for evaluation\n",
    "        model.eval() \n",
    "        test_loss = 0\n",
    "        accuracy = 0\n",
    "        \n",
    "        with torch.no_grad():\n",
    "            for images, labels in testloader:\n",
    "                \n",
    "                images = images.to(device)\n",
    "                labels = labels.to(device)\n",
    "                \n",
    "                log_probabilities = model(images)\n",
    "                test_loss += criterion(log_probabilities, labels)\n",
    "\n",
    "                probabilities = torch.exp(log_probabilities)\n",
    "                top_prob, top_class = probabilities.topk(1, dim=1)\n",
    "                predictions = top_class == labels.view(*top_class.shape)\n",
    "                accuracy += torch.mean(predictions.type(torch.FloatTensor))\n",
    "        \n",
    "        train_losses.append(train_loss/len(trainloader))\n",
    "        test_losses.append(test_loss/len(testloader))\n",
    "        \n",
    "        print(\"Epoch: {}/{}  \".format(epoch+1, epochs),\n",
    "              \"Training loss: {:.4f}  \".format(train_loss/len(trainloader)),\n",
    "              \"Testing loss: {:.4f}  \".format(test_loss/len(testloader)),\n",
    "              \"Test accuracy: {:.4f}  \".format(accuracy/len(testloader)))"
   ]
  },
  {
   "cell_type": "code",
   "execution_count": 10,
   "id": "c93c2ed0",
   "metadata": {},
   "outputs": [
    {
     "data": {
      "image/png": "[encoded data removed]",
      "text/plain": [
       "<Figure size 640x480 with 1 Axes>"
      ]
     },
     "metadata": {},
     "output_type": "display_data"
    }
   ],
   "source": [
    "plt.plot(train_losses, label='Training loss')\n",
    "plt.plot(test_losses, label='Test loss')\n",
    "plt.legend()\n",
    "plt.grid()"
   ]
  },
  {
   "cell_type": "code",
   "execution_count": 11,
   "id": "73a7b454",
   "metadata": {},
   "outputs": [],
   "source": [
    "# Save the model\n",
    "model_path = 'C:\\Semester 2\\ANN\\Portfolio1\\my_model1.pt'\n",
    "torch.save(model, model_path)"
   ]
  },
  {
   "cell_type": "markdown",
   "id": "0b7f7194",
   "metadata": {},
   "source": [
    "# Apply for our case"
   ]
  },
  {
   "cell_type": "markdown",
   "id": "714ed2a8",
   "metadata": {},
   "source": [
    "As we got good accuracy for CNN, I am using CNN trained model to predict our test set."
   ]
  },
  {
   "cell_type": "code",
   "execution_count": 12,
   "id": "30c6a9de",
   "metadata": {},
   "outputs": [],
   "source": [
    "test = np.load(\"C:\\Semester 2\\ANN\\Portfolio1\\Test_set\\imgs.npy\")\n",
    "def get_digits(sudoku_image, row, column, digit_size=28):\n",
    "    # Determine the height and width of each cell in the grid\n",
    "    grid_height, grid_width = sudoku_image.shape[:2]\n",
    "    cell_height = grid_height // 9\n",
    "    cell_width = grid_width // 9\n",
    "\n",
    "    # Calculate the top-left corner of the specified cell\n",
    "    start_y = row * cell_height\n",
    "    start_x = column * cell_width\n",
    "\n",
    "    # Crop the image to get the digit, ensuring it fits into the digit_size\n",
    "    digit_image = Image.fromarray(sudoku_image[start_y:start_y+cell_height, start_x:start_x+cell_width])\n",
    "    digit_image = digit_image.resize((digit_size, digit_size), Image.ANTIALIAS)\n",
    "\n",
    "    # Convert Image to a NumPy array\n",
    "    digit_array = np.array(digit_image)\n",
    "\n",
    "    return digit_image, digit_array"
   ]
  },
  {
   "cell_type": "code",
   "execution_count": 13,
   "id": "404e656f",
   "metadata": {},
   "outputs": [],
   "source": [
    "trained_model = torch.load(r\"C:\\Semester 2\\ANN\\Portfolio1\\my_model1.pt\",map_location=torch.device('cpu'))"
   ]
  },
  {
   "cell_type": "code",
   "execution_count": 14,
   "id": "8106fee8",
   "metadata": {},
   "outputs": [
    {
     "name": "stderr",
     "output_type": "stream",
     "text": [
      "C:\\Users\\korin\\AppData\\Local\\Temp\\ipykernel_17920\\1296424760.py:14: DeprecationWarning: ANTIALIAS is deprecated and will be removed in Pillow 10 (2023-07-01). Use LANCZOS or Resampling.LANCZOS instead.\n",
      "  digit_image = digit_image.resize((digit_size, digit_size), Image.ANTIALIAS)\n"
     ]
    }
   ],
   "source": [
    "# make predictions for test image\n",
    "test_preds_ids = []\n",
    "test_preds_values = []\n",
    "for image_idx in range(test.shape[0]):\n",
    "    for row in range(0,9):\n",
    "        for col in range(0,9):\n",
    "                test_image , _ = get_digits(test[image_idx], row , col)\n",
    "                #create numpy_array\n",
    "                img = np.array(test_image)\n",
    "                # convert it to tensor\n",
    "                img = torch.tensor(img,  dtype=torch.float32)\n",
    "                img = img.to(device)\n",
    "                img = img.view(-1, 1, 28, 28)\n",
    "                with torch.no_grad():\n",
    "                    is_zero = torch.all(img == 0).item()\n",
    "                    if is_zero:\n",
    "                        pred = 0\n",
    "                    else : \n",
    "                        logits = trained_model.forward(img)\n",
    "                        probabilities = F.softmax(logits, dim=1).detach().cpu().numpy().squeeze()\n",
    "                        pred = np.argmax(probabilities)\n",
    "                id = str(image_idx)+'_' + str(row) + str(col)\n",
    "                test_preds_ids.append(id)\n",
    "                test_preds_values.append(pred)"
   ]
  },
  {
   "cell_type": "code",
   "execution_count": 15,
   "id": "720ab872",
   "metadata": {},
   "outputs": [
    {
     "data": {
      "text/html": [
       "<div>\n",
       "<style scoped>\n",
       "    .dataframe tbody tr th:only-of-type {\n",
       "        vertical-align: middle;\n",
       "    }\n",
       "\n",
       "    .dataframe tbody tr th {\n",
       "        vertical-align: top;\n",
       "    }\n",
       "\n",
       "    .dataframe thead th {\n",
       "        text-align: right;\n",
       "    }\n",
       "</style>\n",
       "<table border=\"1\" class=\"dataframe\">\n",
       "  <thead>\n",
       "    <tr style=\"text-align: right;\">\n",
       "      <th></th>\n",
       "      <th>id</th>\n",
       "      <th>values</th>\n",
       "    </tr>\n",
       "  </thead>\n",
       "  <tbody>\n",
       "    <tr>\n",
       "      <th>0</th>\n",
       "      <td>0_00</td>\n",
       "      <td>2</td>\n",
       "    </tr>\n",
       "    <tr>\n",
       "      <th>1</th>\n",
       "      <td>0_01</td>\n",
       "      <td>0</td>\n",
       "    </tr>\n",
       "    <tr>\n",
       "      <th>2</th>\n",
       "      <td>0_02</td>\n",
       "      <td>7</td>\n",
       "    </tr>\n",
       "    <tr>\n",
       "      <th>3</th>\n",
       "      <td>0_03</td>\n",
       "      <td>0</td>\n",
       "    </tr>\n",
       "    <tr>\n",
       "      <th>4</th>\n",
       "      <td>0_04</td>\n",
       "      <td>1</td>\n",
       "    </tr>\n",
       "    <tr>\n",
       "      <th>...</th>\n",
       "      <td>...</td>\n",
       "      <td>...</td>\n",
       "    </tr>\n",
       "    <tr>\n",
       "      <th>809995</th>\n",
       "      <td>9999_84</td>\n",
       "      <td>3</td>\n",
       "    </tr>\n",
       "    <tr>\n",
       "      <th>809996</th>\n",
       "      <td>9999_85</td>\n",
       "      <td>5</td>\n",
       "    </tr>\n",
       "    <tr>\n",
       "      <th>809997</th>\n",
       "      <td>9999_86</td>\n",
       "      <td>2</td>\n",
       "    </tr>\n",
       "    <tr>\n",
       "      <th>809998</th>\n",
       "      <td>9999_87</td>\n",
       "      <td>0</td>\n",
       "    </tr>\n",
       "    <tr>\n",
       "      <th>809999</th>\n",
       "      <td>9999_88</td>\n",
       "      <td>9</td>\n",
       "    </tr>\n",
       "  </tbody>\n",
       "</table>\n",
       "<p>810000 rows × 2 columns</p>\n",
       "</div>"
      ],
      "text/plain": [
       "             id  values\n",
       "0          0_00       2\n",
       "1          0_01       0\n",
       "2          0_02       7\n",
       "3          0_03       0\n",
       "4          0_04       1\n",
       "...         ...     ...\n",
       "809995  9999_84       3\n",
       "809996  9999_85       5\n",
       "809997  9999_86       2\n",
       "809998  9999_87       0\n",
       "809999  9999_88       9\n",
       "\n",
       "[810000 rows x 2 columns]"
      ]
     },
     "execution_count": 15,
     "metadata": {},
     "output_type": "execute_result"
    }
   ],
   "source": [
    "import pandas as pd\n",
    "results = pd.DataFrame({'id': test_preds_ids , 'values' : test_preds_values})\n",
    "results"
   ]
  },
  {
   "cell_type": "code",
   "execution_count": 16,
   "id": "34e31726",
   "metadata": {},
   "outputs": [],
   "source": [
    "results.to_csv('submission_kaggle_Task_1.csv', index = False)"
   ]
  },
  {
   "cell_type": "markdown",
   "id": "3970f29b",
   "metadata": {},
   "source": [
    "#### Conclusion:\n",
    "        I tried both MLP and CNN for our test set. When I submitted MLP results, I got 96% Accuracy in kaggle. For CNN, I got 99.997% which is best score of all my submission"
   ]
  },
  {
   "cell_type": "markdown",
   "id": "c9c7b1fe",
   "metadata": {},
   "source": [
    "**Name: THARUN KUMAR KORINE PALLI**\n",
    "\n",
    "**Matriculation Number: 5123708**\n",
    "\n",
    "**Email: tharunkumar.korinepalli@study.thws.de**\n"
   ]
  },
  {
   "cell_type": "markdown",
   "id": "6bef02eb",
   "metadata": {},
   "source": [
    "# <center>THE END</center>"
   ]
  }
 ],
 "metadata": {
  "kernelspec": {
   "display_name": "Python 3 (ipykernel)",
   "language": "python",
   "name": "python3"
  },
  "language_info": {
   "codemirror_mode": {
    "name": "ipython",
    "version": 3
   },
   "file_extension": ".py",
   "mimetype": "text/x-python",
   "name": "python",
   "nbconvert_exporter": "python",
   "pygments_lexer": "ipython3",
   "version": "3.9.16"
  }
 },
 "nbformat": 4,
 "nbformat_minor": 5
}
